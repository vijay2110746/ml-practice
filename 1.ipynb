{
 "cells": [
  {
   "cell_type": "code",
   "execution_count": 159,
   "metadata": {},
   "outputs": [],
   "source": [
    "import numpy as np\n",
    "import pandas as pd\n",
    "import matplotlib.pyplot as plt"
   ]
  },
  {
   "cell_type": "code",
   "execution_count": 160,
   "metadata": {},
   "outputs": [],
   "source": [
    "# np.random.seed(42)\n",
    "\n",
    "# Load the dataset\n",
    "train_data=pd.read_csv('Train.csv')\n",
    "test_data=pd.read_csv('Test.csv')\n"
   ]
  },
  {
   "cell_type": "code",
   "execution_count": 161,
   "metadata": {},
   "outputs": [
    {
     "name": "stdout",
     "output_type": "stream",
     "text": [
      "<class 'pandas.core.frame.DataFrame'>\n",
      "RangeIndex: 800 entries, 0 to 799\n",
      "Data columns (total 12 columns):\n",
      " #   Column                 Non-Null Count  Dtype  \n",
      "---  ------                 --------------  -----  \n",
      " 0   UniqueID               800 non-null    int64  \n",
      " 1   type_school            735 non-null    object \n",
      " 2   school_accreditation   727 non-null    object \n",
      " 3   gender                 737 non-null    object \n",
      " 4   interest               738 non-null    object \n",
      " 5   residence              742 non-null    object \n",
      " 6   parent_age             729 non-null    float64\n",
      " 7   parent_salary          730 non-null    float64\n",
      " 8   house_area             740 non-null    float64\n",
      " 9   average_grades         727 non-null    float64\n",
      " 10  parent_was_in_college  727 non-null    object \n",
      " 11  will_go_to_college     800 non-null    bool   \n",
      "dtypes: bool(1), float64(4), int64(1), object(6)\n",
      "memory usage: 69.7+ KB\n"
     ]
    },
    {
     "data": {
      "text/html": [
       "<div>\n",
       "<style scoped>\n",
       "    .dataframe tbody tr th:only-of-type {\n",
       "        vertical-align: middle;\n",
       "    }\n",
       "\n",
       "    .dataframe tbody tr th {\n",
       "        vertical-align: top;\n",
       "    }\n",
       "\n",
       "    .dataframe thead th {\n",
       "        text-align: right;\n",
       "    }\n",
       "</style>\n",
       "<table border=\"1\" class=\"dataframe\">\n",
       "  <thead>\n",
       "    <tr style=\"text-align: right;\">\n",
       "      <th></th>\n",
       "      <th>UniqueID</th>\n",
       "      <th>parent_age</th>\n",
       "      <th>parent_salary</th>\n",
       "      <th>house_area</th>\n",
       "      <th>average_grades</th>\n",
       "    </tr>\n",
       "  </thead>\n",
       "  <tbody>\n",
       "    <tr>\n",
       "      <th>count</th>\n",
       "      <td>800.000000</td>\n",
       "      <td>729.000000</td>\n",
       "      <td>7.300000e+02</td>\n",
       "      <td>740.000000</td>\n",
       "      <td>727.000000</td>\n",
       "    </tr>\n",
       "    <tr>\n",
       "      <th>mean</th>\n",
       "      <td>498.418750</td>\n",
       "      <td>52.061728</td>\n",
       "      <td>5.425740e+06</td>\n",
       "      <td>74.433108</td>\n",
       "      <td>86.131499</td>\n",
       "    </tr>\n",
       "    <tr>\n",
       "      <th>std</th>\n",
       "      <td>289.511545</td>\n",
       "      <td>3.414622</td>\n",
       "      <td>1.419164e+06</td>\n",
       "      <td>15.209646</td>\n",
       "      <td>3.341099</td>\n",
       "    </tr>\n",
       "    <tr>\n",
       "      <th>min</th>\n",
       "      <td>1.000000</td>\n",
       "      <td>40.000000</td>\n",
       "      <td>1.660000e+06</td>\n",
       "      <td>20.400000</td>\n",
       "      <td>75.620000</td>\n",
       "    </tr>\n",
       "    <tr>\n",
       "      <th>25%</th>\n",
       "      <td>242.750000</td>\n",
       "      <td>50.000000</td>\n",
       "      <td>4.410000e+06</td>\n",
       "      <td>64.750000</td>\n",
       "      <td>83.865000</td>\n",
       "    </tr>\n",
       "    <tr>\n",
       "      <th>50%</th>\n",
       "      <td>494.500000</td>\n",
       "      <td>52.000000</td>\n",
       "      <td>5.510000e+06</td>\n",
       "      <td>75.800000</td>\n",
       "      <td>85.620000</td>\n",
       "    </tr>\n",
       "    <tr>\n",
       "      <th>75%</th>\n",
       "      <td>751.250000</td>\n",
       "      <td>54.000000</td>\n",
       "      <td>6.450000e+06</td>\n",
       "      <td>84.700000</td>\n",
       "      <td>88.285000</td>\n",
       "    </tr>\n",
       "    <tr>\n",
       "      <th>max</th>\n",
       "      <td>1000.000000</td>\n",
       "      <td>65.000000</td>\n",
       "      <td>1.000000e+07</td>\n",
       "      <td>120.000000</td>\n",
       "      <td>97.000000</td>\n",
       "    </tr>\n",
       "  </tbody>\n",
       "</table>\n",
       "</div>"
      ],
      "text/plain": [
       "          UniqueID  parent_age  parent_salary  house_area  average_grades\n",
       "count   800.000000  729.000000   7.300000e+02  740.000000      727.000000\n",
       "mean    498.418750   52.061728   5.425740e+06   74.433108       86.131499\n",
       "std     289.511545    3.414622   1.419164e+06   15.209646        3.341099\n",
       "min       1.000000   40.000000   1.660000e+06   20.400000       75.620000\n",
       "25%     242.750000   50.000000   4.410000e+06   64.750000       83.865000\n",
       "50%     494.500000   52.000000   5.510000e+06   75.800000       85.620000\n",
       "75%     751.250000   54.000000   6.450000e+06   84.700000       88.285000\n",
       "max    1000.000000   65.000000   1.000000e+07  120.000000       97.000000"
      ]
     },
     "execution_count": 161,
     "metadata": {},
     "output_type": "execute_result"
    }
   ],
   "source": [
    "# Explore the first few rows\n",
    "# train_data.head()\n",
    "train_data.info()\n",
    "train_data.describe()"
   ]
  },
  {
   "cell_type": "code",
   "execution_count": 162,
   "metadata": {},
   "outputs": [
    {
     "data": {
      "text/plain": [
       "(800, 12)"
      ]
     },
     "execution_count": 162,
     "metadata": {},
     "output_type": "execute_result"
    }
   ],
   "source": [
    "# Shape of df\n",
    "train_data.shape\n"
   ]
  },
  {
   "cell_type": "code",
   "execution_count": 163,
   "metadata": {},
   "outputs": [
    {
     "data": {
      "text/plain": [
       "UniqueID                 False\n",
       "type_school               True\n",
       "school_accreditation      True\n",
       "gender                    True\n",
       "interest                  True\n",
       "residence                 True\n",
       "parent_age                True\n",
       "parent_salary             True\n",
       "house_area                True\n",
       "average_grades            True\n",
       "parent_was_in_college     True\n",
       "will_go_to_college       False\n",
       "dtype: bool"
      ]
     },
     "execution_count": 163,
     "metadata": {},
     "output_type": "execute_result"
    }
   ],
   "source": [
    "\n",
    "# check for null values\n",
    "train_data.isna().any()\n",
    "# test_data.isna().any()"
   ]
  },
  {
   "cell_type": "code",
   "execution_count": 164,
   "metadata": {},
   "outputs": [],
   "source": [
    "#remove null values\n",
    "l=[ 'parent_age','parent_salary','house_area','average_grades']\n",
    "l1=['type_school','school_accreditation',\t'gender'\t,'interest',\t'residence'\t,'parent_was_in_college']\n",
    "for i in l:\n",
    "    mean_value=train_data[i].mean()\n",
    "    mean_=test_data[i].mean()\n",
    "    train_data[i].fillna(mean_value,inplace=True)\n",
    "    test_data[i].fillna(mean_,inplace=True)\n",
    "\n",
    "for i in l1:\n",
    "    mode_value=train_data[i].mode()[0]\n",
    "    train_data[i].fillna(mode_value,inplace=True)\n",
    "    mode_value1=test_data[i].mode()[0]\n",
    "    test_data[i].fillna(mode_value1,inplace=True)\n",
    "\n"
   ]
  },
  {
   "cell_type": "code",
   "execution_count": 165,
   "metadata": {},
   "outputs": [
    {
     "data": {
      "text/plain": [
       "UniqueID                 False\n",
       "type_school              False\n",
       "school_accreditation     False\n",
       "gender                   False\n",
       "interest                 False\n",
       "residence                False\n",
       "parent_age               False\n",
       "parent_salary            False\n",
       "house_area               False\n",
       "average_grades           False\n",
       "parent_was_in_college    False\n",
       "will_go_to_college       False\n",
       "dtype: bool"
      ]
     },
     "execution_count": 165,
     "metadata": {},
     "output_type": "execute_result"
    }
   ],
   "source": [
    "#cross check the null values\n",
    "train_data.isna().any()\n"
   ]
  },
  {
   "cell_type": "code",
   "execution_count": 166,
   "metadata": {},
   "outputs": [],
   "source": [
    "#theva illadhadha thooku\n",
    "train_data=train_data.drop(columns=['UniqueID'],axis=1)\n",
    "y_id=test_data['UniqueID']\n",
    "test_data=test_data.drop(columns=['UniqueID'])\n"
   ]
  },
  {
   "cell_type": "code",
   "execution_count": 167,
   "metadata": {},
   "outputs": [
    {
     "data": {
      "text/plain": [
       "0"
      ]
     },
     "execution_count": 167,
     "metadata": {},
     "output_type": "execute_result"
    }
   ],
   "source": [
    "#check for duplicates\n",
    "#duplicates irrundha thooku inga illa so vitru\n",
    "train_data.duplicated().sum()\n",
    "test_data.duplicated().sum()"
   ]
  },
  {
   "cell_type": "code",
   "execution_count": 168,
   "metadata": {},
   "outputs": [],
   "source": [
    "#pinnadi work panna easy ah irukum so numerical and categorical values ah pirichru\n",
    "num_train_data=train_data.select_dtypes(include=np.number)\n",
    "cat_train_data=train_data.select_dtypes(exclude=np.number)\n",
    "\n",
    "num_test_data=test_data.select_dtypes(include=np.number)\n",
    "cat_test_data=test_data.select_dtypes(exclude=np.number)\n"
   ]
  },
  {
   "cell_type": "code",
   "execution_count": 169,
   "metadata": {},
   "outputs": [],
   "source": [
    "l=[ 'parent_age','parent_salary','house_area','average_grades']\n",
    "for i in l:\n",
    "    q1=train_data[i].quantile(0.25)\n",
    "    q3=train_data[i].quantile(0.75)\n",
    "    IQR=q3-q1\n",
    "\n",
    "    thresh=1.5*IQR\n",
    "\n",
    "    outliers=train_data[(train_data[i]<(q1-thresh))| (train_data[i]>(q3+thresh))]\n",
    "    mean_without_outliers = train_data[~train_data[i].isin(outliers[i])][i].mode()[0]\n",
    "    train_data.loc[outliers.index, i] = mean_without_outliers\n",
    "    # print(len(outliers))"
   ]
  },
  {
   "cell_type": "code",
   "execution_count": 170,
   "metadata": {},
   "outputs": [],
   "source": [
    "l=[ 'parent_age','parent_salary','house_area','average_grades']\n",
    "for i in l:\n",
    "    q1=test_data[i].quantile(0.25)\n",
    "    q3=test_data[i].quantile(0.75)\n",
    "    IQR=q3-q1\n",
    "\n",
    "    thresh=1.5*IQR\n",
    "\n",
    "    outliers=test_data[(test_data[i]<(q1-thresh))| (test_data[i]>(q3+thresh))]\n",
    "    mean_without_outliers = test_data[~test_data[i].isin(outliers[i])][i].mode()[0]\n",
    "    test_data.loc[outliers.index, i] = mean_without_outliers\n",
    "    # print(len(outliers))"
   ]
  },
  {
   "cell_type": "code",
   "execution_count": 171,
   "metadata": {},
   "outputs": [
    {
     "name": "stdout",
     "output_type": "stream",
     "text": [
      "0\n",
      "0\n",
      "4\n",
      "1\n"
     ]
    }
   ],
   "source": [
    "l=[ 'parent_age','parent_salary','house_area','average_grades']\n",
    "for i in l:\n",
    "    q1=test_data[i].quantile(0.25)\n",
    "    q3=test_data[i].quantile(0.75)\n",
    "    IQR=q3-q1\n",
    "\n",
    "    thresh=1.5*IQR\n",
    "\n",
    "    outliers=test_data[(test_data[i]<(q1-thresh))| (test_data[i]>(q3+thresh))]\n",
    "    # mean_without_outliers = test_data[~test_data[i].isin(outliers[i])][i].\n",
    "    # test_data.loc[outliers.index, i] = mean_without_outliers\n",
    "    print(len(outliers))"
   ]
  },
  {
   "cell_type": "code",
   "execution_count": 172,
   "metadata": {},
   "outputs": [
    {
     "name": "stdout",
     "output_type": "stream",
     "text": [
      "0\n",
      "1\n",
      "8\n",
      "18\n"
     ]
    }
   ],
   "source": [
    "l=[ 'parent_age','parent_salary','house_area','average_grades']\n",
    "for i in l:\n",
    "    q1=train_data[i].quantile(0.25)\n",
    "    q3=train_data[i].quantile(0.75)\n",
    "    IQR=q3-q1\n",
    "\n",
    "    thresh=1.5*IQR\n",
    "\n",
    "    outliers=train_data[(train_data[i]<(q1-thresh))| (train_data[i]>(q3+thresh))]\n",
    "    # mean_without_outliers = train_data[~train_data[i].isin(outliers[i])][i].mean()\n",
    "    # train_data.loc[outliers.index, i] = mean_without_outliers\n",
    "    print(len(outliers))"
   ]
  },
  {
   "cell_type": "code",
   "execution_count": 173,
   "metadata": {},
   "outputs": [
    {
     "name": "stdout",
     "output_type": "stream",
     "text": [
      "   parent_age  parent_salary  house_area  average_grades\n",
      "0        50.0      6450000.0        78.4       85.860000\n",
      "1        54.0      5450000.0        70.3       86.131499\n",
      "2        52.0      5520000.0        82.5       84.590000\n",
      "3        41.0      3020000.0        50.6       77.180000\n",
      "4        52.0      6120000.0        65.8       84.550000\n"
     ]
    },
    {
     "data": {
      "text/html": [
       "<div>\n",
       "<style scoped>\n",
       "    .dataframe tbody tr th:only-of-type {\n",
       "        vertical-align: middle;\n",
       "    }\n",
       "\n",
       "    .dataframe tbody tr th {\n",
       "        vertical-align: top;\n",
       "    }\n",
       "\n",
       "    .dataframe thead th {\n",
       "        text-align: right;\n",
       "    }\n",
       "</style>\n",
       "<table border=\"1\" class=\"dataframe\">\n",
       "  <thead>\n",
       "    <tr style=\"text-align: right;\">\n",
       "      <th></th>\n",
       "      <th>type_school</th>\n",
       "      <th>school_accreditation</th>\n",
       "      <th>gender</th>\n",
       "      <th>interest</th>\n",
       "      <th>residence</th>\n",
       "      <th>parent_was_in_college</th>\n",
       "      <th>will_go_to_college</th>\n",
       "    </tr>\n",
       "  </thead>\n",
       "  <tbody>\n",
       "    <tr>\n",
       "      <th>0</th>\n",
       "      <td>Vocational</td>\n",
       "      <td>B</td>\n",
       "      <td>Female</td>\n",
       "      <td>Uncertain</td>\n",
       "      <td>Rural</td>\n",
       "      <td>True</td>\n",
       "      <td>False</td>\n",
       "    </tr>\n",
       "    <tr>\n",
       "      <th>1</th>\n",
       "      <td>Vocational</td>\n",
       "      <td>A</td>\n",
       "      <td>Male</td>\n",
       "      <td>Very Interested</td>\n",
       "      <td>Urban</td>\n",
       "      <td>False</td>\n",
       "      <td>True</td>\n",
       "    </tr>\n",
       "    <tr>\n",
       "      <th>2</th>\n",
       "      <td>Vocational</td>\n",
       "      <td>A</td>\n",
       "      <td>Female</td>\n",
       "      <td>Very Interested</td>\n",
       "      <td>Urban</td>\n",
       "      <td>False</td>\n",
       "      <td>True</td>\n",
       "    </tr>\n",
       "    <tr>\n",
       "      <th>3</th>\n",
       "      <td>Academic</td>\n",
       "      <td>A</td>\n",
       "      <td>Male</td>\n",
       "      <td>Not Interested</td>\n",
       "      <td>Rural</td>\n",
       "      <td>True</td>\n",
       "      <td>False</td>\n",
       "    </tr>\n",
       "    <tr>\n",
       "      <th>4</th>\n",
       "      <td>Vocational</td>\n",
       "      <td>B</td>\n",
       "      <td>Male</td>\n",
       "      <td>Uncertain</td>\n",
       "      <td>Rural</td>\n",
       "      <td>True</td>\n",
       "      <td>False</td>\n",
       "    </tr>\n",
       "  </tbody>\n",
       "</table>\n",
       "</div>"
      ],
      "text/plain": [
       "  type_school school_accreditation  gender         interest residence  \\\n",
       "0  Vocational                    B  Female        Uncertain     Rural   \n",
       "1  Vocational                    A    Male  Very Interested     Urban   \n",
       "2  Vocational                    A  Female  Very Interested     Urban   \n",
       "3    Academic                    A    Male   Not Interested     Rural   \n",
       "4  Vocational                    B    Male        Uncertain     Rural   \n",
       "\n",
       "   parent_was_in_college  will_go_to_college  \n",
       "0                   True               False  \n",
       "1                  False                True  \n",
       "2                  False                True  \n",
       "3                   True               False  \n",
       "4                   True               False  "
      ]
     },
     "execution_count": 173,
     "metadata": {},
     "output_type": "execute_result"
    }
   ],
   "source": [
    "#crct ah than pirinju irukanu check pannika\n",
    "print(num_train_data.head())\n",
    "cat_train_data.head()"
   ]
  },
  {
   "cell_type": "code",
   "execution_count": 174,
   "metadata": {},
   "outputs": [
    {
     "data": {
      "text/plain": [
       "<Axes: >"
      ]
     },
     "execution_count": 174,
     "metadata": {},
     "output_type": "execute_result"
    },
    {
     "data": {
      "image/png": "[encoded data removed]",
      "text/plain": [
       "<Figure size 640x480 with 2 Axes>"
      ]
     },
     "metadata": {},
     "output_type": "display_data"
    }
   ],
   "source": [
    "#numerical data ku correlation kandupidi\n",
    "corr=num_train_data.corr()\n",
    "corr\n",
    "import seaborn as sns\n",
    "sns.heatmap(corr,annot=True)"
   ]
  },
  {
   "cell_type": "code",
   "execution_count": 175,
   "metadata": {},
   "outputs": [
    {
     "data": {
      "text/html": [
       "<div>\n",
       "<style scoped>\n",
       "    .dataframe tbody tr th:only-of-type {\n",
       "        vertical-align: middle;\n",
       "    }\n",
       "\n",
       "    .dataframe tbody tr th {\n",
       "        vertical-align: top;\n",
       "    }\n",
       "\n",
       "    .dataframe thead th {\n",
       "        text-align: right;\n",
       "    }\n",
       "</style>\n",
       "<table border=\"1\" class=\"dataframe\">\n",
       "  <thead>\n",
       "    <tr style=\"text-align: right;\">\n",
       "      <th></th>\n",
       "      <th>type_school</th>\n",
       "      <th>school_accreditation</th>\n",
       "      <th>gender</th>\n",
       "      <th>interest</th>\n",
       "      <th>residence</th>\n",
       "      <th>parent_age</th>\n",
       "      <th>parent_salary</th>\n",
       "      <th>house_area</th>\n",
       "      <th>average_grades</th>\n",
       "      <th>parent_was_in_college</th>\n",
       "      <th>will_go_to_college</th>\n",
       "    </tr>\n",
       "  </thead>\n",
       "  <tbody>\n",
       "    <tr>\n",
       "      <th>0</th>\n",
       "      <td>1</td>\n",
       "      <td>1</td>\n",
       "      <td>0</td>\n",
       "      <td>3</td>\n",
       "      <td>0</td>\n",
       "      <td>50.0</td>\n",
       "      <td>6450000.0</td>\n",
       "      <td>78.4</td>\n",
       "      <td>85.860000</td>\n",
       "      <td>1</td>\n",
       "      <td>0</td>\n",
       "    </tr>\n",
       "    <tr>\n",
       "      <th>1</th>\n",
       "      <td>1</td>\n",
       "      <td>0</td>\n",
       "      <td>1</td>\n",
       "      <td>4</td>\n",
       "      <td>1</td>\n",
       "      <td>54.0</td>\n",
       "      <td>5450000.0</td>\n",
       "      <td>70.3</td>\n",
       "      <td>86.131499</td>\n",
       "      <td>0</td>\n",
       "      <td>1</td>\n",
       "    </tr>\n",
       "    <tr>\n",
       "      <th>2</th>\n",
       "      <td>1</td>\n",
       "      <td>0</td>\n",
       "      <td>0</td>\n",
       "      <td>4</td>\n",
       "      <td>1</td>\n",
       "      <td>52.0</td>\n",
       "      <td>5520000.0</td>\n",
       "      <td>82.5</td>\n",
       "      <td>84.590000</td>\n",
       "      <td>0</td>\n",
       "      <td>1</td>\n",
       "    </tr>\n",
       "    <tr>\n",
       "      <th>3</th>\n",
       "      <td>0</td>\n",
       "      <td>0</td>\n",
       "      <td>1</td>\n",
       "      <td>2</td>\n",
       "      <td>0</td>\n",
       "      <td>52.0</td>\n",
       "      <td>3020000.0</td>\n",
       "      <td>50.6</td>\n",
       "      <td>86.131499</td>\n",
       "      <td>1</td>\n",
       "      <td>0</td>\n",
       "    </tr>\n",
       "    <tr>\n",
       "      <th>4</th>\n",
       "      <td>1</td>\n",
       "      <td>1</td>\n",
       "      <td>1</td>\n",
       "      <td>3</td>\n",
       "      <td>0</td>\n",
       "      <td>52.0</td>\n",
       "      <td>6120000.0</td>\n",
       "      <td>65.8</td>\n",
       "      <td>84.550000</td>\n",
       "      <td>1</td>\n",
       "      <td>0</td>\n",
       "    </tr>\n",
       "  </tbody>\n",
       "</table>\n",
       "</div>"
      ],
      "text/plain": [
       "   type_school  school_accreditation  gender  interest  residence  parent_age  \\\n",
       "0            1                     1       0         3          0        50.0   \n",
       "1            1                     0       1         4          1        54.0   \n",
       "2            1                     0       0         4          1        52.0   \n",
       "3            0                     0       1         2          0        52.0   \n",
       "4            1                     1       1         3          0        52.0   \n",
       "\n",
       "   parent_salary  house_area  average_grades  parent_was_in_college  \\\n",
       "0      6450000.0        78.4       85.860000                      1   \n",
       "1      5450000.0        70.3       86.131499                      0   \n",
       "2      5520000.0        82.5       84.590000                      0   \n",
       "3      3020000.0        50.6       86.131499                      1   \n",
       "4      6120000.0        65.8       84.550000                      1   \n",
       "\n",
       "   will_go_to_college  \n",
       "0                   0  \n",
       "1                   1  \n",
       "2                   1  \n",
       "3                   0  \n",
       "4                   0  "
      ]
     },
     "execution_count": 175,
     "metadata": {},
     "output_type": "execute_result"
    }
   ],
   "source": [
    "#categorical values ah map pannika idhuku neriya method iruku idhan bootcamp la solli kuduthanga\n",
    "from sklearn.preprocessing import LabelEncoder\n",
    "labelencoder=LabelEncoder()\n",
    "col=cat_train_data.columns\n",
    "for columns in col:\n",
    "    labelencoder.fit(train_data[columns])\n",
    "    train_data[columns]=labelencoder.transform(train_data[columns])\n",
    "for columns in col[:-1]:#training dataset la oru column kammi so ipdi seirom\n",
    "    labelencoder.fit(test_data[columns])\n",
    "    test_data[columns]=labelencoder.transform(test_data[columns])\n",
    "train_data.head()"
   ]
  },
  {
   "cell_type": "code",
   "execution_count": 176,
   "metadata": {},
   "outputs": [
    {
     "data": {
      "text/plain": [
       "<Axes: >"
      ]
     },
     "execution_count": 176,
     "metadata": {},
     "output_type": "execute_result"
    },
    {
     "data": {
      "image/png": "[encoded data removed]",
      "text/plain": [
       "<Figure size 640x480 with 2 Axes>"
      ]
     },
     "metadata": {},
     "output_type": "display_data"
    }
   ],
   "source": [
    "#ipa overall ah oru correlation matrix yen na ellame ipo nmerical data aagiruchu\n",
    "corr=train_data.corr()\n",
    "sns.heatmap(corr,annot=True)"
   ]
  },
  {
   "cell_type": "code",
   "execution_count": 177,
   "metadata": {},
   "outputs": [
    {
     "data": {
      "text/html": [
       "<div>\n",
       "<style scoped>\n",
       "    .dataframe tbody tr th:only-of-type {\n",
       "        vertical-align: middle;\n",
       "    }\n",
       "\n",
       "    .dataframe tbody tr th {\n",
       "        vertical-align: top;\n",
       "    }\n",
       "\n",
       "    .dataframe thead th {\n",
       "        text-align: right;\n",
       "    }\n",
       "</style>\n",
       "<table border=\"1\" class=\"dataframe\">\n",
       "  <thead>\n",
       "    <tr style=\"text-align: right;\">\n",
       "      <th></th>\n",
       "      <th>type_school</th>\n",
       "      <th>school_accreditation</th>\n",
       "      <th>gender</th>\n",
       "      <th>interest</th>\n",
       "      <th>residence</th>\n",
       "      <th>parent_age</th>\n",
       "      <th>parent_salary</th>\n",
       "      <th>house_area</th>\n",
       "      <th>average_grades</th>\n",
       "      <th>parent_was_in_college</th>\n",
       "    </tr>\n",
       "  </thead>\n",
       "  <tbody>\n",
       "    <tr>\n",
       "      <th>0</th>\n",
       "      <td>1</td>\n",
       "      <td>0</td>\n",
       "      <td>1</td>\n",
       "      <td>1</td>\n",
       "      <td>1</td>\n",
       "      <td>59.0</td>\n",
       "      <td>5390000.0</td>\n",
       "      <td>63.3</td>\n",
       "      <td>86.49</td>\n",
       "      <td>0</td>\n",
       "    </tr>\n",
       "    <tr>\n",
       "      <th>1</th>\n",
       "      <td>1</td>\n",
       "      <td>0</td>\n",
       "      <td>0</td>\n",
       "      <td>4</td>\n",
       "      <td>1</td>\n",
       "      <td>53.0</td>\n",
       "      <td>6150000.0</td>\n",
       "      <td>54.4</td>\n",
       "      <td>85.46</td>\n",
       "      <td>0</td>\n",
       "    </tr>\n",
       "    <tr>\n",
       "      <th>2</th>\n",
       "      <td>0</td>\n",
       "      <td>1</td>\n",
       "      <td>1</td>\n",
       "      <td>2</td>\n",
       "      <td>0</td>\n",
       "      <td>48.0</td>\n",
       "      <td>3320000.0</td>\n",
       "      <td>72.8</td>\n",
       "      <td>83.63</td>\n",
       "      <td>1</td>\n",
       "    </tr>\n",
       "    <tr>\n",
       "      <th>3</th>\n",
       "      <td>0</td>\n",
       "      <td>0</td>\n",
       "      <td>0</td>\n",
       "      <td>1</td>\n",
       "      <td>1</td>\n",
       "      <td>60.0</td>\n",
       "      <td>3670000.0</td>\n",
       "      <td>83.5</td>\n",
       "      <td>88.30</td>\n",
       "      <td>0</td>\n",
       "    </tr>\n",
       "    <tr>\n",
       "      <th>4</th>\n",
       "      <td>1</td>\n",
       "      <td>1</td>\n",
       "      <td>1</td>\n",
       "      <td>4</td>\n",
       "      <td>1</td>\n",
       "      <td>56.0</td>\n",
       "      <td>6040000.0</td>\n",
       "      <td>75.6</td>\n",
       "      <td>87.46</td>\n",
       "      <td>1</td>\n",
       "    </tr>\n",
       "  </tbody>\n",
       "</table>\n",
       "</div>"
      ],
      "text/plain": [
       "   type_school  school_accreditation  gender  interest  residence  parent_age  \\\n",
       "0            1                     0       1         1          1        59.0   \n",
       "1            1                     0       0         4          1        53.0   \n",
       "2            0                     1       1         2          0        48.0   \n",
       "3            0                     0       0         1          1        60.0   \n",
       "4            1                     1       1         4          1        56.0   \n",
       "\n",
       "   parent_salary  house_area  average_grades  parent_was_in_college  \n",
       "0      5390000.0        63.3           86.49                      0  \n",
       "1      6150000.0        54.4           85.46                      0  \n",
       "2      3320000.0        72.8           83.63                      1  \n",
       "3      3670000.0        83.5           88.30                      0  \n",
       "4      6040000.0        75.6           87.46                      1  "
      ]
     },
     "execution_count": 177,
     "metadata": {},
     "output_type": "execute_result"
    }
   ],
   "source": [
    "test_data.head()"
   ]
  },
  {
   "cell_type": "code",
   "execution_count": 178,
   "metadata": {},
   "outputs": [],
   "source": [
    "#idhula vandhu ella features aiyum scale pannuvanag adhadhu 0to1 ah aakuvanga adhuku oru formula iruku ahda use panni seivanga\n",
    "from sklearn.preprocessing import MinMaxScaler\n",
    "maxminscaler = MinMaxScaler()\n",
    "\n",
    "for col in train_data.columns:\n",
    "    if col != 'will_go_to_college':\n",
    "        maxminscaler.fit(train_data[[col]])\n",
    "        train_data[col] =maxminscaler.transform(train_data[[col]])\n",
    "        test_data[col] =maxminscaler.transform(test_data[[col]])"
   ]
  },
  {
   "cell_type": "code",
   "execution_count": 179,
   "metadata": {},
   "outputs": [
    {
     "data": {
      "text/html": [
       "<div>\n",
       "<style scoped>\n",
       "    .dataframe tbody tr th:only-of-type {\n",
       "        vertical-align: middle;\n",
       "    }\n",
       "\n",
       "    .dataframe tbody tr th {\n",
       "        vertical-align: top;\n",
       "    }\n",
       "\n",
       "    .dataframe thead th {\n",
       "        text-align: right;\n",
       "    }\n",
       "</style>\n",
       "<table border=\"1\" class=\"dataframe\">\n",
       "  <thead>\n",
       "    <tr style=\"text-align: right;\">\n",
       "      <th></th>\n",
       "      <th>type_school</th>\n",
       "      <th>school_accreditation</th>\n",
       "      <th>gender</th>\n",
       "      <th>interest</th>\n",
       "      <th>residence</th>\n",
       "      <th>parent_age</th>\n",
       "      <th>parent_salary</th>\n",
       "      <th>house_area</th>\n",
       "      <th>average_grades</th>\n",
       "      <th>parent_was_in_college</th>\n",
       "    </tr>\n",
       "  </thead>\n",
       "  <tbody>\n",
       "    <tr>\n",
       "      <th>0</th>\n",
       "      <td>1.0</td>\n",
       "      <td>0.0</td>\n",
       "      <td>1.0</td>\n",
       "      <td>0.25</td>\n",
       "      <td>1.0</td>\n",
       "      <td>0.9375</td>\n",
       "      <td>0.497872</td>\n",
       "      <td>0.332362</td>\n",
       "      <td>0.537921</td>\n",
       "      <td>0.0</td>\n",
       "    </tr>\n",
       "    <tr>\n",
       "      <th>1</th>\n",
       "      <td>1.0</td>\n",
       "      <td>0.0</td>\n",
       "      <td>0.0</td>\n",
       "      <td>1.00</td>\n",
       "      <td>1.0</td>\n",
       "      <td>0.5625</td>\n",
       "      <td>0.605674</td>\n",
       "      <td>0.202624</td>\n",
       "      <td>0.465590</td>\n",
       "      <td>0.0</td>\n",
       "    </tr>\n",
       "    <tr>\n",
       "      <th>2</th>\n",
       "      <td>0.0</td>\n",
       "      <td>1.0</td>\n",
       "      <td>1.0</td>\n",
       "      <td>0.50</td>\n",
       "      <td>0.0</td>\n",
       "      <td>0.2500</td>\n",
       "      <td>0.204255</td>\n",
       "      <td>0.470845</td>\n",
       "      <td>0.337079</td>\n",
       "      <td>1.0</td>\n",
       "    </tr>\n",
       "    <tr>\n",
       "      <th>3</th>\n",
       "      <td>0.0</td>\n",
       "      <td>0.0</td>\n",
       "      <td>0.0</td>\n",
       "      <td>0.25</td>\n",
       "      <td>1.0</td>\n",
       "      <td>1.0000</td>\n",
       "      <td>0.253901</td>\n",
       "      <td>0.626822</td>\n",
       "      <td>0.665028</td>\n",
       "      <td>0.0</td>\n",
       "    </tr>\n",
       "    <tr>\n",
       "      <th>4</th>\n",
       "      <td>1.0</td>\n",
       "      <td>1.0</td>\n",
       "      <td>1.0</td>\n",
       "      <td>1.00</td>\n",
       "      <td>1.0</td>\n",
       "      <td>0.7500</td>\n",
       "      <td>0.590071</td>\n",
       "      <td>0.511662</td>\n",
       "      <td>0.606039</td>\n",
       "      <td>1.0</td>\n",
       "    </tr>\n",
       "  </tbody>\n",
       "</table>\n",
       "</div>"
      ],
      "text/plain": [
       "   type_school  school_accreditation  gender  interest  residence  parent_age  \\\n",
       "0          1.0                   0.0     1.0      0.25        1.0      0.9375   \n",
       "1          1.0                   0.0     0.0      1.00        1.0      0.5625   \n",
       "2          0.0                   1.0     1.0      0.50        0.0      0.2500   \n",
       "3          0.0                   0.0     0.0      0.25        1.0      1.0000   \n",
       "4          1.0                   1.0     1.0      1.00        1.0      0.7500   \n",
       "\n",
       "   parent_salary  house_area  average_grades  parent_was_in_college  \n",
       "0       0.497872    0.332362        0.537921                    0.0  \n",
       "1       0.605674    0.202624        0.465590                    0.0  \n",
       "2       0.204255    0.470845        0.337079                    1.0  \n",
       "3       0.253901    0.626822        0.665028                    0.0  \n",
       "4       0.590071    0.511662        0.606039                    1.0  "
      ]
     },
     "execution_count": 179,
     "metadata": {},
     "output_type": "execute_result"
    }
   ],
   "source": [
    "#unmailaye aagiruchanu check pandrom paatha ellam maariduchu\n",
    "test_data.head()"
   ]
  },
  {
   "cell_type": "code",
   "execution_count": 180,
   "metadata": {},
   "outputs": [
    {
     "name": "stdout",
     "output_type": "stream",
     "text": [
      "(536, 10)\n"
     ]
    },
    {
     "data": {
      "text/plain": [
       "(264, 10)"
      ]
     },
     "execution_count": 180,
     "metadata": {},
     "output_type": "execute_result"
    }
   ],
   "source": [
    "#idhula test train data pirichrupom namma target vandhu will go to college and matha ellame feature\n",
    "from sklearn.model_selection import train_test_split\n",
    "y=train_data['will_go_to_college']\n",
    "x=train_data.drop(columns=['will_go_to_college'])\n",
    "train_x,test_x,train_y,test_y=train_test_split(x,y,test_size=0.33,random_state=72)\n",
    "print(train_x.shape)\n",
    "test_x.shape"
   ]
  },
  {
   "cell_type": "code",
   "execution_count": 181,
   "metadata": {},
   "outputs": [],
   "source": [
    "#idhu classification thane adhunala logistic use pandrom\n",
    "from sklearn.linear_model import LogisticRegression\n",
    "logreg = LogisticRegression()\n",
    "logreg.fit(train_x,train_y)\n",
    "logreg_ypred = logreg.predict(test_x)"
   ]
  },
  {
   "cell_type": "code",
   "execution_count": 182,
   "metadata": {},
   "outputs": [],
   "source": [
    "#idhu innoru classification algo with same steps idhey maari aduthu oru moonu naalu algo use pannirupom\n",
    "from xgboost import XGBClassifier\n",
    "xgb = XGBClassifier()\n",
    "xgb.fit(train_x,train_y)\n",
    "xgb_ypred = xgb.predict(test_x)"
   ]
  },
  {
   "cell_type": "code",
   "execution_count": 183,
   "metadata": {},
   "outputs": [],
   "source": [
    "from sklearn.svm import SVC\n",
    "\n",
    "# Create a Support Vector Machine classifier\n",
    "svm_classifier = SVC()\n",
    "\n",
    "# Train the classifier on the training data\n",
    "svm_classifier.fit(train_x, train_y)\n",
    "\n",
    "# Make predictions on the test data\n",
    "svm_ypred = svm_classifier.predict(test_x)\n"
   ]
  },
  {
   "cell_type": "code",
   "execution_count": 184,
   "metadata": {},
   "outputs": [
    {
     "name": "stderr",
     "output_type": "stream",
     "text": [
      "c:\\Users\\vijay\\AppData\\Local\\Programs\\Python\\Python311\\Lib\\site-packages\\sklearn\\ensemble\\_base.py:156: FutureWarning: `base_estimator` was renamed to `estimator` in version 1.2 and will be removed in 1.4.\n",
      "  warnings.warn(\n"
     ]
    }
   ],
   "source": [
    "from sklearn.ensemble import AdaBoostClassifier\n",
    "from sklearn.tree import DecisionTreeClassifier\n",
    "\n",
    "# Create a base decision tree classifier (weak learner)\n",
    "base_classifier = DecisionTreeClassifier(max_depth=1)\n",
    "\n",
    "# Create an AdaBoost classifier with the base classifier\n",
    "ada_boost_classifier = AdaBoostClassifier(base_estimator=base_classifier, n_estimators=50, learning_rate=2.0)\n",
    "\n",
    "# Train the classifier on the training data\n",
    "ada_boost_classifier.fit(train_x, train_y)\n",
    "\n",
    "# Make predictions on the test data\n",
    "ada_boost_ypred = ada_boost_classifier.predict(test_x)\n"
   ]
  },
  {
   "cell_type": "code",
   "execution_count": 185,
   "metadata": {},
   "outputs": [],
   "source": [
    "from sklearn.ensemble import GradientBoostingClassifier\n",
    "\n",
    "# Create a Gradient Boosting classifier\n",
    "gbm_classifier = GradientBoostingClassifier(n_estimators=100, learning_rate=0.01, max_depth=3, random_state=42)\n",
    "\n",
    "# Train the classifier on the training data\n",
    "gbm_classifier.fit(train_x, train_y)\n",
    "\n",
    "# Make predictions on the test data\n",
    "gbm_ypred = gbm_classifier.predict(test_x)\n"
   ]
  },
  {
   "cell_type": "code",
   "execution_count": 186,
   "metadata": {},
   "outputs": [
    {
     "data": {
      "text/plain": [
       "0.8028169014084507"
      ]
     },
     "execution_count": 186,
     "metadata": {},
     "output_type": "execute_result"
    }
   ],
   "source": [
    "from sklearn.metrics import f1_score\n",
    "#ipa ella model kum f1 score calc pannanum and idhula edhu best nu paakanum\n",
    "f1_score(test_y,logreg_ypred)"
   ]
  },
  {
   "cell_type": "code",
   "execution_count": 187,
   "metadata": {},
   "outputs": [
    {
     "data": {
      "text/plain": [
       "0.2737642585551331"
      ]
     },
     "execution_count": 187,
     "metadata": {},
     "output_type": "execute_result"
    }
   ],
   "source": [
    "f1_score(test_y,ada_boost_ypred)"
   ]
  },
  {
   "cell_type": "code",
   "execution_count": 188,
   "metadata": {},
   "outputs": [
    {
     "data": {
      "text/plain": [
       "0.8185053380782917"
      ]
     },
     "execution_count": 188,
     "metadata": {},
     "output_type": "execute_result"
    }
   ],
   "source": [
    "f1_score(test_y,svm_ypred)"
   ]
  },
  {
   "cell_type": "code",
   "execution_count": 189,
   "metadata": {},
   "outputs": [
    {
     "data": {
      "text/plain": [
       "0.8398576512455516"
      ]
     },
     "execution_count": 189,
     "metadata": {},
     "output_type": "execute_result"
    }
   ],
   "source": [
    "f1_score(test_y,xgb_ypred)"
   ]
  },
  {
   "cell_type": "code",
   "execution_count": 190,
   "metadata": {},
   "outputs": [],
   "source": [
    "from sklearn.ensemble import RandomForestClassifier\n",
    "\n",
    "# Create a Random Forest Classifier\n",
    "random_forest = RandomForestClassifier()\n",
    "\n",
    "# Train the model\n",
    "random_forest.fit(train_x, train_y)\n",
    "\n",
    "# Predict on the test data\n",
    "random_forest_ypred = random_forest.predict(test_x)\n"
   ]
  },
  {
   "cell_type": "code",
   "execution_count": 191,
   "metadata": {},
   "outputs": [
    {
     "name": "stdout",
     "output_type": "stream",
     "text": [
      "Accuracy: 0.8371212121212122\n",
      "F1 Score: 0.8458781362007168\n"
     ]
    }
   ],
   "source": [
    "from sklearn.metrics import accuracy_score, f1_score\n",
    "\n",
    "# Calculate accuracy\n",
    "accuracy = accuracy_score(test_y, random_forest_ypred)\n",
    "\n",
    "# Calculate F1 score\n",
    "f1 = f1_score(test_y, random_forest_ypred)\n",
    "\n",
    "print(\"Accuracy:\", accuracy)\n",
    "print(\"F1 Score:\", f1)\n"
   ]
  },
  {
   "cell_type": "code",
   "execution_count": 192,
   "metadata": {},
   "outputs": [],
   "source": [
    "from sklearn.model_selection import GridSearchCV\n",
    "#f1 score la best edhunu paatha adhu xgb than varudhu so gridsearch use pannanum adhadhu best fit kandupidika use pandrom\n",
    "paramdict={'n_estimators':[50,100], 'max_depth':[2,5] ,'learning_rate':[0.1,0.01]}\n",
    "gridsearch = GridSearchCV(estimator=xgb,param_grid=paramdict,cv=5)\n",
    "gridsearch.fit(train_x,train_y)\n",
    "xgb_gsv_ypred=gridsearch.predict(test_x)\n"
   ]
  },
  {
   "cell_type": "code",
   "execution_count": 193,
   "metadata": {},
   "outputs": [
    {
     "data": {
      "text/plain": [
       "0.8398576512455516"
      ]
     },
     "execution_count": 193,
     "metadata": {},
     "output_type": "execute_result"
    }
   ],
   "source": [
    "#indha f1 score vandhu xgb ah vida kammi ah than irukum yen na best fit epaiyume greatest ah irukadhu\n",
    "f1_score(test_y,xgb_ypred)"
   ]
  },
  {
   "cell_type": "code",
   "execution_count": 194,
   "metadata": {},
   "outputs": [
    {
     "data": {
      "text/plain": [
       "array([[102,  26],\n",
       "       [ 29, 107]], dtype=int64)"
      ]
     },
     "execution_count": 194,
     "metadata": {},
     "output_type": "execute_result"
    }
   ],
   "source": [
    "from sklearn.metrics import confusion_matrix\n",
    "confusion_matrix(test_y,xgb_gsv_ypred)"
   ]
  },
  {
   "cell_type": "code",
   "execution_count": 195,
   "metadata": {},
   "outputs": [
    {
     "data": {
      "image/png": "[encoded data removed]",
      "text/plain": [
       "<Figure size 640x480 with 1 Axes>"
      ]
     },
     "metadata": {},
     "output_type": "display_data"
    }
   ],
   "source": [
    "from sklearn.metrics import roc_curve, auc\n",
    "\n",
    "fpr, tpr, thresholds = roc_curve(test_y,xgb_ypred)\n",
    "\n",
    "# Compute Area Under the ROC Curve (AUC)\n",
    "roc_auc = auc(fpr, tpr)\n",
    "\n",
    "# Plot ROC curve\n",
    "plt.figure()\n",
    "plt.plot(fpr, tpr, color='darkorange', lw=2, label='ROC curve (area = %0.2f)' % roc_auc)\n",
    "plt.plot([0, 1], [0, 1], color='navy', lw=2, linestyle='--')\n",
    "plt.xlim([0.0, 1.0])\n",
    "plt.ylim([0.0, 1.05])\n",
    "plt.xlabel('False Positive Rate')\n",
    "plt.ylabel('True Positive Rate')\n",
    "plt.title('Receiver Operating Characteristic (ROC) Curve')\n",
    "plt.legend(loc=\"lower right\")\n",
    "plt.show()"
   ]
  },
  {
   "cell_type": "code",
   "execution_count": 196,
   "metadata": {},
   "outputs": [
    {
     "data": {
      "text/plain": [
       "array([0, 1, 0, 0, 1, 1, 0, 1, 0, 1, 0, 1, 1, 1, 0, 0, 1, 0, 1, 1, 0, 0,\n",
       "       0, 0, 1, 0, 0, 0, 1, 0, 1, 0, 0, 1, 0, 1, 1, 1, 1, 0, 0, 0, 0, 1,\n",
       "       1, 1, 1, 1, 0, 1, 1, 1, 1, 0, 0, 1, 1, 0, 1, 1, 1, 1, 1, 0, 0, 1,\n",
       "       0, 0, 1, 1, 1, 0, 0, 1, 0, 1, 0, 0, 0, 0, 1, 0, 0, 0, 1, 0, 1, 1,\n",
       "       0, 0, 0, 1, 0, 0, 1, 1, 1, 1, 0, 1, 0, 1, 0, 1, 1, 0, 0, 0, 1, 1,\n",
       "       1, 0, 1, 0, 1, 0, 0, 0, 0, 1, 1, 0, 0, 0, 1, 0, 1, 0, 0, 1, 1, 0,\n",
       "       0, 1, 0, 1, 0, 0, 1, 0, 1, 1, 0, 0, 0, 0, 0, 1, 1, 0, 0, 1, 1, 0,\n",
       "       1, 1, 0, 1, 1, 0, 0, 1, 1, 0, 1, 0, 1, 1, 1, 0, 0, 0, 0, 0, 0, 0,\n",
       "       1, 1, 0, 1, 1, 1, 0, 1, 1, 0, 0, 0, 0, 0, 0, 0, 1, 0, 1, 1, 0, 1,\n",
       "       0, 1])"
      ]
     },
     "execution_count": 196,
     "metadata": {},
     "output_type": "execute_result"
    }
   ],
   "source": [
    "#inga actual gridsearch lerndhu vandhadhu than use pannanum ana idhu pota than third aachum varom\n",
    "#idhula enna seiromna idhu vara namma test.csv ah use pannala idhuvara namma train.csv ah use panni train pantom ipo test.csv ah predict panni vara answer ah submit pannanum\n",
    "y_pred  = xgb.predict(test_data)\n",
    "y_pred"
   ]
  },
  {
   "cell_type": "code",
   "execution_count": 197,
   "metadata": {},
   "outputs": [
    {
     "name": "stdout",
     "output_type": "stream",
     "text": [
      "     UniqueID  will_go_to_college\n",
      "0         522                   0\n",
      "1         738                   1\n",
      "2         741                   0\n",
      "3         661                   0\n",
      "4         412                   1\n",
      "..        ...                 ...\n",
      "195       409                   1\n",
      "196       333                   0\n",
      "197       209                   1\n",
      "198       614                   0\n",
      "199        79                   1\n",
      "\n",
      "[200 rows x 2 columns]\n"
     ]
    }
   ],
   "source": [
    "y_pred = pd.DataFrame({'will_go_to_college': y_pred})\n",
    "\n",
    "# Assign the 'Unique_ID' column to y_pred\n",
    "y_pred['UniqueID'] = y_id\n",
    "\n",
    "# Reorder the columns if needed\n",
    "y_pred = y_pred[['UniqueID', 'will_go_to_college']]\n",
    "\n",
    "# Print the DataFrame\n",
    "print(y_pred)"
   ]
  },
  {
   "cell_type": "code",
   "execution_count": 198,
   "metadata": {},
   "outputs": [],
   "source": [
    "#idhu just andha csv file la append panndradhu than\n",
    "y_pred.to_csv('submission.csv',index=False)"
   ]
  }
 ],
 "metadata": {
  "kernelspec": {
   "display_name": "Python 3",
   "language": "python",
   "name": "python3"
  },
  "language_info": {
   "codemirror_mode": {
    "name": "ipython",
    "version": 3
   },
   "file_extension": ".py",
   "mimetype": "text/x-python",
   "name": "python",
   "nbconvert_exporter": "python",
   "pygments_lexer": "ipython3",
   "version": "3.11.3"
  }
 },
 "nbformat": 4,
 "nbformat_minor": 2
}

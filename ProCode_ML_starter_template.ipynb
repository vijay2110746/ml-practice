{
  "cells": [
    {
      "cell_type": "markdown",
      "metadata": {
        "colab_type": "text",
        "id": "view-in-github"
      },
      "source": [
        "<a href=\"https://colab.research.google.com/github/gokulakrishnanbalaji/ProCode-Kaggle/blob/main/ProCode_ML_starter_template.ipynb\" target=\"_parent\"><img src=\"https://colab.research.google.com/assets/colab-badge.svg\" alt=\"Open In Colab\"/></a>"
      ]
    },
    {
      "cell_type": "markdown",
      "metadata": {
        "id": "ioctzKlgLBGk"
      },
      "source": [
        "Competition website: [Kaggle competition link](https://www.kaggle.com/competitions/playground-series-s4e1/)"
      ]
    },
    {
      "cell_type": "code",
      "execution_count": 139,
      "metadata": {
        "id": "vUAXKGvTpuJx"
      },
      "outputs": [
        {
          "name": "stderr",
          "output_type": "stream",
          "text": [
            "'wget' is not recognized as an internal or external command,\n",
            "operable program or batch file.\n",
            "'wget' is not recognized as an internal or external command,\n",
            "operable program or batch file.\n",
            "'wget' is not recognized as an internal or external command,\n",
            "operable program or batch file.\n"
          ]
        }
      ],
      "source": [
        "! wget -O train.csv https://raw.githubusercontent.com/gokulakrishnanbalaji/ProCode-Kaggle/main/train.csv\n",
        "! wget -O test.csv https://raw.githubusercontent.com/gokulakrishnanbalaji/ProCode-Kaggle/main/test.csv\n",
        "! wget -O sample_submission.csv https://raw.githubusercontent.com/gokulakrishnanbalaji/ProCode-Kaggle/main/sample_submission.csv"
      ]
    },
    {
      "cell_type": "markdown",
      "metadata": {
        "id": "EXVe5QfUJ-I3"
      },
      "source": [
        "# Importing Libraries\n"
      ]
    },
    {
      "cell_type": "code",
      "execution_count": 140,
      "metadata": {
        "id": "_7jjl138J-_f"
      },
      "outputs": [],
      "source": [
        "import pandas as pd\n",
        "import numpy as np\n",
        "import matplotlib.pyplot as plt\n",
        "import seaborn as sns"
      ]
    },
    {
      "cell_type": "markdown",
      "metadata": {
        "id": "JNLl6jG-KNsi"
      },
      "source": [
        "# Data Exploration and analysis"
      ]
    },
    {
      "cell_type": "code",
      "execution_count": 141,
      "metadata": {
        "id": "jRH7P7FdKKfr"
      },
      "outputs": [],
      "source": [
        "# Load the dataset\n",
        "train_data=pd.read_csv('train.csv')\n",
        "test_data=pd.read_csv('test.csv')\n"
      ]
    },
    {
      "cell_type": "code",
      "execution_count": 142,
      "metadata": {
        "id": "q6D8r3UEKVoc"
      },
      "outputs": [
        {
          "data": {
            "text/html": [
              "<div>\n",
              "<style scoped>\n",
              "    .dataframe tbody tr th:only-of-type {\n",
              "        vertical-align: middle;\n",
              "    }\n",
              "\n",
              "    .dataframe tbody tr th {\n",
              "        vertical-align: top;\n",
              "    }\n",
              "\n",
              "    .dataframe thead th {\n",
              "        text-align: right;\n",
              "    }\n",
              "</style>\n",
              "<table border=\"1\" class=\"dataframe\">\n",
              "  <thead>\n",
              "    <tr style=\"text-align: right;\">\n",
              "      <th></th>\n",
              "      <th>id</th>\n",
              "      <th>CustomerId</th>\n",
              "      <th>CreditScore</th>\n",
              "      <th>Age</th>\n",
              "      <th>Tenure</th>\n",
              "      <th>Balance</th>\n",
              "      <th>NumOfProducts</th>\n",
              "      <th>HasCrCard</th>\n",
              "      <th>IsActiveMember</th>\n",
              "      <th>EstimatedSalary</th>\n",
              "      <th>Exited</th>\n",
              "    </tr>\n",
              "  </thead>\n",
              "  <tbody>\n",
              "    <tr>\n",
              "      <th>count</th>\n",
              "      <td>165034.0000</td>\n",
              "      <td>1.650340e+05</td>\n",
              "      <td>165034.000000</td>\n",
              "      <td>165034.000000</td>\n",
              "      <td>165034.000000</td>\n",
              "      <td>165034.000000</td>\n",
              "      <td>165034.000000</td>\n",
              "      <td>165034.000000</td>\n",
              "      <td>165034.000000</td>\n",
              "      <td>165034.000000</td>\n",
              "      <td>165034.000000</td>\n",
              "    </tr>\n",
              "    <tr>\n",
              "      <th>mean</th>\n",
              "      <td>82516.5000</td>\n",
              "      <td>1.569201e+07</td>\n",
              "      <td>656.454373</td>\n",
              "      <td>38.125888</td>\n",
              "      <td>5.020353</td>\n",
              "      <td>55478.086689</td>\n",
              "      <td>1.554455</td>\n",
              "      <td>0.753954</td>\n",
              "      <td>0.497770</td>\n",
              "      <td>112574.822734</td>\n",
              "      <td>0.211599</td>\n",
              "    </tr>\n",
              "    <tr>\n",
              "      <th>std</th>\n",
              "      <td>47641.3565</td>\n",
              "      <td>7.139782e+04</td>\n",
              "      <td>80.103340</td>\n",
              "      <td>8.867205</td>\n",
              "      <td>2.806159</td>\n",
              "      <td>62817.663278</td>\n",
              "      <td>0.547154</td>\n",
              "      <td>0.430707</td>\n",
              "      <td>0.499997</td>\n",
              "      <td>50292.865585</td>\n",
              "      <td>0.408443</td>\n",
              "    </tr>\n",
              "    <tr>\n",
              "      <th>min</th>\n",
              "      <td>0.0000</td>\n",
              "      <td>1.556570e+07</td>\n",
              "      <td>350.000000</td>\n",
              "      <td>18.000000</td>\n",
              "      <td>0.000000</td>\n",
              "      <td>0.000000</td>\n",
              "      <td>1.000000</td>\n",
              "      <td>0.000000</td>\n",
              "      <td>0.000000</td>\n",
              "      <td>11.580000</td>\n",
              "      <td>0.000000</td>\n",
              "    </tr>\n",
              "    <tr>\n",
              "      <th>25%</th>\n",
              "      <td>41258.2500</td>\n",
              "      <td>1.563314e+07</td>\n",
              "      <td>597.000000</td>\n",
              "      <td>32.000000</td>\n",
              "      <td>3.000000</td>\n",
              "      <td>0.000000</td>\n",
              "      <td>1.000000</td>\n",
              "      <td>1.000000</td>\n",
              "      <td>0.000000</td>\n",
              "      <td>74637.570000</td>\n",
              "      <td>0.000000</td>\n",
              "    </tr>\n",
              "    <tr>\n",
              "      <th>50%</th>\n",
              "      <td>82516.5000</td>\n",
              "      <td>1.569017e+07</td>\n",
              "      <td>659.000000</td>\n",
              "      <td>37.000000</td>\n",
              "      <td>5.000000</td>\n",
              "      <td>0.000000</td>\n",
              "      <td>2.000000</td>\n",
              "      <td>1.000000</td>\n",
              "      <td>0.000000</td>\n",
              "      <td>117948.000000</td>\n",
              "      <td>0.000000</td>\n",
              "    </tr>\n",
              "    <tr>\n",
              "      <th>75%</th>\n",
              "      <td>123774.7500</td>\n",
              "      <td>1.575682e+07</td>\n",
              "      <td>710.000000</td>\n",
              "      <td>42.000000</td>\n",
              "      <td>7.000000</td>\n",
              "      <td>119939.517500</td>\n",
              "      <td>2.000000</td>\n",
              "      <td>1.000000</td>\n",
              "      <td>1.000000</td>\n",
              "      <td>155152.467500</td>\n",
              "      <td>0.000000</td>\n",
              "    </tr>\n",
              "    <tr>\n",
              "      <th>max</th>\n",
              "      <td>165033.0000</td>\n",
              "      <td>1.581569e+07</td>\n",
              "      <td>850.000000</td>\n",
              "      <td>92.000000</td>\n",
              "      <td>10.000000</td>\n",
              "      <td>250898.090000</td>\n",
              "      <td>4.000000</td>\n",
              "      <td>1.000000</td>\n",
              "      <td>1.000000</td>\n",
              "      <td>199992.480000</td>\n",
              "      <td>1.000000</td>\n",
              "    </tr>\n",
              "  </tbody>\n",
              "</table>\n",
              "</div>"
            ],
            "text/plain": [
              "                id    CustomerId    CreditScore            Age         Tenure  \\\n",
              "count  165034.0000  1.650340e+05  165034.000000  165034.000000  165034.000000   \n",
              "mean    82516.5000  1.569201e+07     656.454373      38.125888       5.020353   \n",
              "std     47641.3565  7.139782e+04      80.103340       8.867205       2.806159   \n",
              "min         0.0000  1.556570e+07     350.000000      18.000000       0.000000   \n",
              "25%     41258.2500  1.563314e+07     597.000000      32.000000       3.000000   \n",
              "50%     82516.5000  1.569017e+07     659.000000      37.000000       5.000000   \n",
              "75%    123774.7500  1.575682e+07     710.000000      42.000000       7.000000   \n",
              "max    165033.0000  1.581569e+07     850.000000      92.000000      10.000000   \n",
              "\n",
              "             Balance  NumOfProducts      HasCrCard  IsActiveMember  \\\n",
              "count  165034.000000  165034.000000  165034.000000   165034.000000   \n",
              "mean    55478.086689       1.554455       0.753954        0.497770   \n",
              "std     62817.663278       0.547154       0.430707        0.499997   \n",
              "min         0.000000       1.000000       0.000000        0.000000   \n",
              "25%         0.000000       1.000000       1.000000        0.000000   \n",
              "50%         0.000000       2.000000       1.000000        0.000000   \n",
              "75%    119939.517500       2.000000       1.000000        1.000000   \n",
              "max    250898.090000       4.000000       1.000000        1.000000   \n",
              "\n",
              "       EstimatedSalary         Exited  \n",
              "count    165034.000000  165034.000000  \n",
              "mean     112574.822734       0.211599  \n",
              "std       50292.865585       0.408443  \n",
              "min          11.580000       0.000000  \n",
              "25%       74637.570000       0.000000  \n",
              "50%      117948.000000       0.000000  \n",
              "75%      155152.467500       0.000000  \n",
              "max      199992.480000       1.000000  "
            ]
          },
          "execution_count": 142,
          "metadata": {},
          "output_type": "execute_result"
        }
      ],
      "source": [
        "# Explore the first few rows\n",
        "# train_data.head()\n",
        "# test_data.head()\n",
        "# train_data.info()\n",
        "train_data.describe()"
      ]
    },
    {
      "cell_type": "code",
      "execution_count": 143,
      "metadata": {
        "id": "SYxkB8ZgKYQY"
      },
      "outputs": [
        {
          "data": {
            "text/plain": [
              "(165034, 14)"
            ]
          },
          "execution_count": 143,
          "metadata": {},
          "output_type": "execute_result"
        }
      ],
      "source": [
        "# Shape of df\n",
        "train_data.shape"
      ]
    },
    {
      "cell_type": "code",
      "execution_count": 144,
      "metadata": {
        "id": "7K5LAheCMnlN"
      },
      "outputs": [
        {
          "data": {
            "text/plain": [
              "id                 False\n",
              "CustomerId         False\n",
              "Surname            False\n",
              "CreditScore        False\n",
              "Geography          False\n",
              "Gender             False\n",
              "Age                False\n",
              "Tenure             False\n",
              "Balance            False\n",
              "NumOfProducts      False\n",
              "HasCrCard          False\n",
              "IsActiveMember     False\n",
              "EstimatedSalary    False\n",
              "dtype: bool"
            ]
          },
          "execution_count": 144,
          "metadata": {},
          "output_type": "execute_result"
        }
      ],
      "source": [
        "# check for null values\n",
        "test_data.isna().any()"
      ]
    },
    {
      "cell_type": "code",
      "execution_count": 145,
      "metadata": {
        "id": "U5Dl77zCNV9h"
      },
      "outputs": [],
      "source": [
        "# Identify unwanted column and remove them in both train and test\n",
        "train_data=train_data.drop(['id','CustomerId','Surname'],axis=1)\n",
        "test_data=test_data.drop(['id','CustomerId','Surname'],axis=1)\n"
      ]
    },
    {
      "cell_type": "code",
      "execution_count": 146,
      "metadata": {
        "id": "wiI2j3m_N8vN"
      },
      "outputs": [
        {
          "data": {
            "text/plain": [
              "72"
            ]
          },
          "execution_count": 146,
          "metadata": {},
          "output_type": "execute_result"
        }
      ],
      "source": [
        "# check for duplicates\n",
        "\n",
        "train_data.duplicated().sum()\n",
        "test_data.duplicated().sum()"
      ]
    },
    {
      "cell_type": "code",
      "execution_count": 147,
      "metadata": {
        "id": "DoJnNOtpOSxf"
      },
      "outputs": [
        {
          "data": {
            "text/plain": [
              "0"
            ]
          },
          "execution_count": 147,
          "metadata": {},
          "output_type": "execute_result"
        }
      ],
      "source": [
        "# Drop the duplicates\n",
        "\n",
        "train_data=train_data.drop_duplicates()\n",
        "\n",
        "train_data.duplicated().sum()\n",
        "test_data=train_data.drop_duplicates()\n",
        "\n",
        "test_data.duplicated().sum()"
      ]
    },
    {
      "cell_type": "code",
      "execution_count": 148,
      "metadata": {
        "id": "T_KbYxqsPf8d"
      },
      "outputs": [
        {
          "data": {
            "text/html": [
              "<div>\n",
              "<style scoped>\n",
              "    .dataframe tbody tr th:only-of-type {\n",
              "        vertical-align: middle;\n",
              "    }\n",
              "\n",
              "    .dataframe tbody tr th {\n",
              "        vertical-align: top;\n",
              "    }\n",
              "\n",
              "    .dataframe thead th {\n",
              "        text-align: right;\n",
              "    }\n",
              "</style>\n",
              "<table border=\"1\" class=\"dataframe\">\n",
              "  <thead>\n",
              "    <tr style=\"text-align: right;\">\n",
              "      <th></th>\n",
              "      <th>Geography</th>\n",
              "      <th>Gender</th>\n",
              "    </tr>\n",
              "  </thead>\n",
              "  <tbody>\n",
              "    <tr>\n",
              "      <th>0</th>\n",
              "      <td>France</td>\n",
              "      <td>Male</td>\n",
              "    </tr>\n",
              "    <tr>\n",
              "      <th>1</th>\n",
              "      <td>France</td>\n",
              "      <td>Male</td>\n",
              "    </tr>\n",
              "    <tr>\n",
              "      <th>2</th>\n",
              "      <td>France</td>\n",
              "      <td>Male</td>\n",
              "    </tr>\n",
              "    <tr>\n",
              "      <th>3</th>\n",
              "      <td>France</td>\n",
              "      <td>Male</td>\n",
              "    </tr>\n",
              "    <tr>\n",
              "      <th>4</th>\n",
              "      <td>Spain</td>\n",
              "      <td>Male</td>\n",
              "    </tr>\n",
              "    <tr>\n",
              "      <th>...</th>\n",
              "      <td>...</td>\n",
              "      <td>...</td>\n",
              "    </tr>\n",
              "    <tr>\n",
              "      <th>165029</th>\n",
              "      <td>Spain</td>\n",
              "      <td>Female</td>\n",
              "    </tr>\n",
              "    <tr>\n",
              "      <th>165030</th>\n",
              "      <td>France</td>\n",
              "      <td>Male</td>\n",
              "    </tr>\n",
              "    <tr>\n",
              "      <th>165031</th>\n",
              "      <td>France</td>\n",
              "      <td>Male</td>\n",
              "    </tr>\n",
              "    <tr>\n",
              "      <th>165032</th>\n",
              "      <td>Spain</td>\n",
              "      <td>Female</td>\n",
              "    </tr>\n",
              "    <tr>\n",
              "      <th>165033</th>\n",
              "      <td>France</td>\n",
              "      <td>Male</td>\n",
              "    </tr>\n",
              "  </tbody>\n",
              "</table>\n",
              "<p>164911 rows × 2 columns</p>\n",
              "</div>"
            ],
            "text/plain": [
              "       Geography  Gender\n",
              "0         France    Male\n",
              "1         France    Male\n",
              "2         France    Male\n",
              "3         France    Male\n",
              "4          Spain    Male\n",
              "...          ...     ...\n",
              "165029     Spain  Female\n",
              "165030    France    Male\n",
              "165031    France    Male\n",
              "165032     Spain  Female\n",
              "165033    France    Male\n",
              "\n",
              "[164911 rows x 2 columns]"
            ]
          },
          "execution_count": 148,
          "metadata": {},
          "output_type": "execute_result"
        }
      ],
      "source": [
        "# Separate numerical and categorical data\n",
        "num_train_data=train_data.select_dtypes(include=np.number)\n",
        "cat_train_data=train_data.select_dtypes(exclude=np.number)\n",
        "num_test_data=test_data.select_dtypes(include=np.number)\n",
        "cat_test_data=test_data.select_dtypes(exclude=np.number)\n",
        "cat_test_data"
      ]
    },
    {
      "cell_type": "code",
      "execution_count": 149,
      "metadata": {
        "id": "d3l2KdaOQULs"
      },
      "outputs": [
        {
          "data": {
            "text/plain": [
              "<Axes: >"
            ]
          },
          "execution_count": 149,
          "metadata": {},
          "output_type": "execute_result"
        },
        {
          "data": {
            "image/png": "[encoded data removed]",
            "text/plain": [
              "<Figure size 640x480 with 2 Axes>"
            ]
          },
          "metadata": {},
          "output_type": "display_data"
        }
      ],
      "source": [
        "# check correlation among numerical data cols\n",
        "# corr=num_train_data.corr()\n",
        "# sns.heatmap(corr,annot=True)\n",
        "corr=num_test_data.corr()\n",
        "sns.heatmap(corr,annot=True)"
      ]
    },
    {
      "cell_type": "markdown",
      "metadata": {
        "id": "KfaLs_h6RfJd"
      },
      "source": [
        "# Data Preprocessing"
      ]
    },
    {
      "cell_type": "code",
      "execution_count": 150,
      "metadata": {
        "id": "OoxfFq7QQuAO"
      },
      "outputs": [
        {
          "data": {
            "text/html": [
              "<div>\n",
              "<style scoped>\n",
              "    .dataframe tbody tr th:only-of-type {\n",
              "        vertical-align: middle;\n",
              "    }\n",
              "\n",
              "    .dataframe tbody tr th {\n",
              "        vertical-align: top;\n",
              "    }\n",
              "\n",
              "    .dataframe thead th {\n",
              "        text-align: right;\n",
              "    }\n",
              "</style>\n",
              "<table border=\"1\" class=\"dataframe\">\n",
              "  <thead>\n",
              "    <tr style=\"text-align: right;\">\n",
              "      <th></th>\n",
              "      <th>CreditScore</th>\n",
              "      <th>Geography</th>\n",
              "      <th>Gender</th>\n",
              "      <th>Age</th>\n",
              "      <th>Tenure</th>\n",
              "      <th>Balance</th>\n",
              "      <th>NumOfProducts</th>\n",
              "      <th>HasCrCard</th>\n",
              "      <th>IsActiveMember</th>\n",
              "      <th>EstimatedSalary</th>\n",
              "      <th>Exited</th>\n",
              "    </tr>\n",
              "  </thead>\n",
              "  <tbody>\n",
              "    <tr>\n",
              "      <th>0</th>\n",
              "      <td>668</td>\n",
              "      <td>0</td>\n",
              "      <td>1</td>\n",
              "      <td>33.0</td>\n",
              "      <td>3</td>\n",
              "      <td>0.00</td>\n",
              "      <td>2</td>\n",
              "      <td>1.0</td>\n",
              "      <td>0.0</td>\n",
              "      <td>181449.97</td>\n",
              "      <td>0</td>\n",
              "    </tr>\n",
              "    <tr>\n",
              "      <th>1</th>\n",
              "      <td>627</td>\n",
              "      <td>0</td>\n",
              "      <td>1</td>\n",
              "      <td>33.0</td>\n",
              "      <td>1</td>\n",
              "      <td>0.00</td>\n",
              "      <td>2</td>\n",
              "      <td>1.0</td>\n",
              "      <td>1.0</td>\n",
              "      <td>49503.50</td>\n",
              "      <td>0</td>\n",
              "    </tr>\n",
              "    <tr>\n",
              "      <th>2</th>\n",
              "      <td>678</td>\n",
              "      <td>0</td>\n",
              "      <td>1</td>\n",
              "      <td>40.0</td>\n",
              "      <td>10</td>\n",
              "      <td>0.00</td>\n",
              "      <td>2</td>\n",
              "      <td>1.0</td>\n",
              "      <td>0.0</td>\n",
              "      <td>184866.69</td>\n",
              "      <td>0</td>\n",
              "    </tr>\n",
              "    <tr>\n",
              "      <th>3</th>\n",
              "      <td>581</td>\n",
              "      <td>0</td>\n",
              "      <td>1</td>\n",
              "      <td>34.0</td>\n",
              "      <td>2</td>\n",
              "      <td>148882.54</td>\n",
              "      <td>1</td>\n",
              "      <td>1.0</td>\n",
              "      <td>1.0</td>\n",
              "      <td>84560.88</td>\n",
              "      <td>0</td>\n",
              "    </tr>\n",
              "    <tr>\n",
              "      <th>4</th>\n",
              "      <td>716</td>\n",
              "      <td>2</td>\n",
              "      <td>1</td>\n",
              "      <td>33.0</td>\n",
              "      <td>5</td>\n",
              "      <td>0.00</td>\n",
              "      <td>2</td>\n",
              "      <td>1.0</td>\n",
              "      <td>1.0</td>\n",
              "      <td>15068.83</td>\n",
              "      <td>0</td>\n",
              "    </tr>\n",
              "    <tr>\n",
              "      <th>...</th>\n",
              "      <td>...</td>\n",
              "      <td>...</td>\n",
              "      <td>...</td>\n",
              "      <td>...</td>\n",
              "      <td>...</td>\n",
              "      <td>...</td>\n",
              "      <td>...</td>\n",
              "      <td>...</td>\n",
              "      <td>...</td>\n",
              "      <td>...</td>\n",
              "      <td>...</td>\n",
              "    </tr>\n",
              "    <tr>\n",
              "      <th>165029</th>\n",
              "      <td>667</td>\n",
              "      <td>2</td>\n",
              "      <td>0</td>\n",
              "      <td>33.0</td>\n",
              "      <td>2</td>\n",
              "      <td>0.00</td>\n",
              "      <td>1</td>\n",
              "      <td>1.0</td>\n",
              "      <td>1.0</td>\n",
              "      <td>131834.75</td>\n",
              "      <td>0</td>\n",
              "    </tr>\n",
              "    <tr>\n",
              "      <th>165030</th>\n",
              "      <td>792</td>\n",
              "      <td>0</td>\n",
              "      <td>1</td>\n",
              "      <td>35.0</td>\n",
              "      <td>3</td>\n",
              "      <td>0.00</td>\n",
              "      <td>1</td>\n",
              "      <td>0.0</td>\n",
              "      <td>0.0</td>\n",
              "      <td>131834.45</td>\n",
              "      <td>0</td>\n",
              "    </tr>\n",
              "    <tr>\n",
              "      <th>165031</th>\n",
              "      <td>565</td>\n",
              "      <td>0</td>\n",
              "      <td>1</td>\n",
              "      <td>31.0</td>\n",
              "      <td>5</td>\n",
              "      <td>0.00</td>\n",
              "      <td>1</td>\n",
              "      <td>1.0</td>\n",
              "      <td>1.0</td>\n",
              "      <td>127429.56</td>\n",
              "      <td>0</td>\n",
              "    </tr>\n",
              "    <tr>\n",
              "      <th>165032</th>\n",
              "      <td>554</td>\n",
              "      <td>2</td>\n",
              "      <td>0</td>\n",
              "      <td>30.0</td>\n",
              "      <td>7</td>\n",
              "      <td>161533.00</td>\n",
              "      <td>1</td>\n",
              "      <td>0.0</td>\n",
              "      <td>1.0</td>\n",
              "      <td>71173.03</td>\n",
              "      <td>0</td>\n",
              "    </tr>\n",
              "    <tr>\n",
              "      <th>165033</th>\n",
              "      <td>850</td>\n",
              "      <td>0</td>\n",
              "      <td>1</td>\n",
              "      <td>31.0</td>\n",
              "      <td>1</td>\n",
              "      <td>0.00</td>\n",
              "      <td>1</td>\n",
              "      <td>1.0</td>\n",
              "      <td>0.0</td>\n",
              "      <td>61581.79</td>\n",
              "      <td>1</td>\n",
              "    </tr>\n",
              "  </tbody>\n",
              "</table>\n",
              "<p>164911 rows × 11 columns</p>\n",
              "</div>"
            ],
            "text/plain": [
              "        CreditScore  Geography  Gender   Age  Tenure    Balance  \\\n",
              "0               668          0       1  33.0       3       0.00   \n",
              "1               627          0       1  33.0       1       0.00   \n",
              "2               678          0       1  40.0      10       0.00   \n",
              "3               581          0       1  34.0       2  148882.54   \n",
              "4               716          2       1  33.0       5       0.00   \n",
              "...             ...        ...     ...   ...     ...        ...   \n",
              "165029          667          2       0  33.0       2       0.00   \n",
              "165030          792          0       1  35.0       3       0.00   \n",
              "165031          565          0       1  31.0       5       0.00   \n",
              "165032          554          2       0  30.0       7  161533.00   \n",
              "165033          850          0       1  31.0       1       0.00   \n",
              "\n",
              "        NumOfProducts  HasCrCard  IsActiveMember  EstimatedSalary  Exited  \n",
              "0                   2        1.0             0.0        181449.97       0  \n",
              "1                   2        1.0             1.0         49503.50       0  \n",
              "2                   2        1.0             0.0        184866.69       0  \n",
              "3                   1        1.0             1.0         84560.88       0  \n",
              "4                   2        1.0             1.0         15068.83       0  \n",
              "...               ...        ...             ...              ...     ...  \n",
              "165029              1        1.0             1.0        131834.75       0  \n",
              "165030              1        0.0             0.0        131834.45       0  \n",
              "165031              1        1.0             1.0        127429.56       0  \n",
              "165032              1        0.0             1.0         71173.03       0  \n",
              "165033              1        1.0             0.0         61581.79       1  \n",
              "\n",
              "[164911 rows x 11 columns]"
            ]
          },
          "execution_count": 150,
          "metadata": {},
          "output_type": "execute_result"
        }
      ],
      "source": [
        "# Label encode for categorical variable for train and test\n",
        "\n",
        "from sklearn.preprocessing import LabelEncoder\n",
        "labelencoder=LabelEncoder()\n",
        "for columns in cat_train_data.columns:\n",
        "    labelencoder.fit(train_data[columns])\n",
        "    train_data[columns]=labelencoder.transform(train_data[columns])\n",
        "    test_data[columns]=labelencoder.transform(test_data[columns])\n",
        "\n",
        "train_data"
      ]
    },
    {
      "cell_type": "markdown",
      "metadata": {
        "id": "xMOpQnGUTmGg"
      },
      "source": [
        "# Feature engineering"
      ]
    },
    {
      "cell_type": "code",
      "execution_count": 151,
      "metadata": {
        "id": "QOPWMJufSq4T"
      },
      "outputs": [
        {
          "data": {
            "text/html": [
              "<div>\n",
              "<style scoped>\n",
              "    .dataframe tbody tr th:only-of-type {\n",
              "        vertical-align: middle;\n",
              "    }\n",
              "\n",
              "    .dataframe tbody tr th {\n",
              "        vertical-align: top;\n",
              "    }\n",
              "\n",
              "    .dataframe thead th {\n",
              "        text-align: right;\n",
              "    }\n",
              "</style>\n",
              "<table border=\"1\" class=\"dataframe\">\n",
              "  <thead>\n",
              "    <tr style=\"text-align: right;\">\n",
              "      <th></th>\n",
              "      <th>CreditScore</th>\n",
              "      <th>Geography</th>\n",
              "      <th>Gender</th>\n",
              "      <th>Age</th>\n",
              "      <th>Tenure</th>\n",
              "      <th>Balance</th>\n",
              "      <th>NumOfProducts</th>\n",
              "      <th>HasCrCard</th>\n",
              "      <th>IsActiveMember</th>\n",
              "      <th>EstimatedSalary</th>\n",
              "      <th>Exited</th>\n",
              "      <th>balance_per_salary</th>\n",
              "    </tr>\n",
              "  </thead>\n",
              "  <tbody>\n",
              "    <tr>\n",
              "      <th>0</th>\n",
              "      <td>668</td>\n",
              "      <td>0</td>\n",
              "      <td>1</td>\n",
              "      <td>33.0</td>\n",
              "      <td>3</td>\n",
              "      <td>0.00</td>\n",
              "      <td>2</td>\n",
              "      <td>1.0</td>\n",
              "      <td>0.0</td>\n",
              "      <td>181449.97</td>\n",
              "      <td>0</td>\n",
              "      <td>0.000000</td>\n",
              "    </tr>\n",
              "    <tr>\n",
              "      <th>1</th>\n",
              "      <td>627</td>\n",
              "      <td>0</td>\n",
              "      <td>1</td>\n",
              "      <td>33.0</td>\n",
              "      <td>1</td>\n",
              "      <td>0.00</td>\n",
              "      <td>2</td>\n",
              "      <td>1.0</td>\n",
              "      <td>1.0</td>\n",
              "      <td>49503.50</td>\n",
              "      <td>0</td>\n",
              "      <td>0.000000</td>\n",
              "    </tr>\n",
              "    <tr>\n",
              "      <th>2</th>\n",
              "      <td>678</td>\n",
              "      <td>0</td>\n",
              "      <td>1</td>\n",
              "      <td>40.0</td>\n",
              "      <td>10</td>\n",
              "      <td>0.00</td>\n",
              "      <td>2</td>\n",
              "      <td>1.0</td>\n",
              "      <td>0.0</td>\n",
              "      <td>184866.69</td>\n",
              "      <td>0</td>\n",
              "      <td>0.000000</td>\n",
              "    </tr>\n",
              "    <tr>\n",
              "      <th>3</th>\n",
              "      <td>581</td>\n",
              "      <td>0</td>\n",
              "      <td>1</td>\n",
              "      <td>34.0</td>\n",
              "      <td>2</td>\n",
              "      <td>148882.54</td>\n",
              "      <td>1</td>\n",
              "      <td>1.0</td>\n",
              "      <td>1.0</td>\n",
              "      <td>84560.88</td>\n",
              "      <td>0</td>\n",
              "      <td>1.760655</td>\n",
              "    </tr>\n",
              "    <tr>\n",
              "      <th>4</th>\n",
              "      <td>716</td>\n",
              "      <td>2</td>\n",
              "      <td>1</td>\n",
              "      <td>33.0</td>\n",
              "      <td>5</td>\n",
              "      <td>0.00</td>\n",
              "      <td>2</td>\n",
              "      <td>1.0</td>\n",
              "      <td>1.0</td>\n",
              "      <td>15068.83</td>\n",
              "      <td>0</td>\n",
              "      <td>0.000000</td>\n",
              "    </tr>\n",
              "    <tr>\n",
              "      <th>...</th>\n",
              "      <td>...</td>\n",
              "      <td>...</td>\n",
              "      <td>...</td>\n",
              "      <td>...</td>\n",
              "      <td>...</td>\n",
              "      <td>...</td>\n",
              "      <td>...</td>\n",
              "      <td>...</td>\n",
              "      <td>...</td>\n",
              "      <td>...</td>\n",
              "      <td>...</td>\n",
              "      <td>...</td>\n",
              "    </tr>\n",
              "    <tr>\n",
              "      <th>165029</th>\n",
              "      <td>667</td>\n",
              "      <td>2</td>\n",
              "      <td>0</td>\n",
              "      <td>33.0</td>\n",
              "      <td>2</td>\n",
              "      <td>0.00</td>\n",
              "      <td>1</td>\n",
              "      <td>1.0</td>\n",
              "      <td>1.0</td>\n",
              "      <td>131834.75</td>\n",
              "      <td>0</td>\n",
              "      <td>0.000000</td>\n",
              "    </tr>\n",
              "    <tr>\n",
              "      <th>165030</th>\n",
              "      <td>792</td>\n",
              "      <td>0</td>\n",
              "      <td>1</td>\n",
              "      <td>35.0</td>\n",
              "      <td>3</td>\n",
              "      <td>0.00</td>\n",
              "      <td>1</td>\n",
              "      <td>0.0</td>\n",
              "      <td>0.0</td>\n",
              "      <td>131834.45</td>\n",
              "      <td>0</td>\n",
              "      <td>0.000000</td>\n",
              "    </tr>\n",
              "    <tr>\n",
              "      <th>165031</th>\n",
              "      <td>565</td>\n",
              "      <td>0</td>\n",
              "      <td>1</td>\n",
              "      <td>31.0</td>\n",
              "      <td>5</td>\n",
              "      <td>0.00</td>\n",
              "      <td>1</td>\n",
              "      <td>1.0</td>\n",
              "      <td>1.0</td>\n",
              "      <td>127429.56</td>\n",
              "      <td>0</td>\n",
              "      <td>0.000000</td>\n",
              "    </tr>\n",
              "    <tr>\n",
              "      <th>165032</th>\n",
              "      <td>554</td>\n",
              "      <td>2</td>\n",
              "      <td>0</td>\n",
              "      <td>30.0</td>\n",
              "      <td>7</td>\n",
              "      <td>161533.00</td>\n",
              "      <td>1</td>\n",
              "      <td>0.0</td>\n",
              "      <td>1.0</td>\n",
              "      <td>71173.03</td>\n",
              "      <td>0</td>\n",
              "      <td>2.269582</td>\n",
              "    </tr>\n",
              "    <tr>\n",
              "      <th>165033</th>\n",
              "      <td>850</td>\n",
              "      <td>0</td>\n",
              "      <td>1</td>\n",
              "      <td>31.0</td>\n",
              "      <td>1</td>\n",
              "      <td>0.00</td>\n",
              "      <td>1</td>\n",
              "      <td>1.0</td>\n",
              "      <td>0.0</td>\n",
              "      <td>61581.79</td>\n",
              "      <td>1</td>\n",
              "      <td>0.000000</td>\n",
              "    </tr>\n",
              "  </tbody>\n",
              "</table>\n",
              "<p>164911 rows × 12 columns</p>\n",
              "</div>"
            ],
            "text/plain": [
              "        CreditScore  Geography  Gender   Age  Tenure    Balance  \\\n",
              "0               668          0       1  33.0       3       0.00   \n",
              "1               627          0       1  33.0       1       0.00   \n",
              "2               678          0       1  40.0      10       0.00   \n",
              "3               581          0       1  34.0       2  148882.54   \n",
              "4               716          2       1  33.0       5       0.00   \n",
              "...             ...        ...     ...   ...     ...        ...   \n",
              "165029          667          2       0  33.0       2       0.00   \n",
              "165030          792          0       1  35.0       3       0.00   \n",
              "165031          565          0       1  31.0       5       0.00   \n",
              "165032          554          2       0  30.0       7  161533.00   \n",
              "165033          850          0       1  31.0       1       0.00   \n",
              "\n",
              "        NumOfProducts  HasCrCard  IsActiveMember  EstimatedSalary  Exited  \\\n",
              "0                   2        1.0             0.0        181449.97       0   \n",
              "1                   2        1.0             1.0         49503.50       0   \n",
              "2                   2        1.0             0.0        184866.69       0   \n",
              "3                   1        1.0             1.0         84560.88       0   \n",
              "4                   2        1.0             1.0         15068.83       0   \n",
              "...               ...        ...             ...              ...     ...   \n",
              "165029              1        1.0             1.0        131834.75       0   \n",
              "165030              1        0.0             0.0        131834.45       0   \n",
              "165031              1        1.0             1.0        127429.56       0   \n",
              "165032              1        0.0             1.0         71173.03       0   \n",
              "165033              1        1.0             0.0         61581.79       1   \n",
              "\n",
              "        balance_per_salary  \n",
              "0                 0.000000  \n",
              "1                 0.000000  \n",
              "2                 0.000000  \n",
              "3                 1.760655  \n",
              "4                 0.000000  \n",
              "...                    ...  \n",
              "165029            0.000000  \n",
              "165030            0.000000  \n",
              "165031            0.000000  \n",
              "165032            2.269582  \n",
              "165033            0.000000  \n",
              "\n",
              "[164911 rows x 12 columns]"
            ]
          },
          "execution_count": 151,
          "metadata": {},
          "output_type": "execute_result"
        }
      ],
      "source": [
        "# Create new col called balance_per_salary\n",
        "train_data['balance_per_salary']=train_data['Balance']/train_data['EstimatedSalary']\n",
        "test_data['balance_per_salary']=test_data['Balance']/train_data['EstimatedSalary']\n",
        "# train_data=train_data.drop(columns=['Balance','EstimatedSalary'])\n",
        "test_data"
      ]
    },
    {
      "cell_type": "code",
      "execution_count": 152,
      "metadata": {
        "id": "yHG1zZLJX7iY"
      },
      "outputs": [
        {
          "data": {
            "text/html": [
              "<div>\n",
              "<style scoped>\n",
              "    .dataframe tbody tr th:only-of-type {\n",
              "        vertical-align: middle;\n",
              "    }\n",
              "\n",
              "    .dataframe tbody tr th {\n",
              "        vertical-align: top;\n",
              "    }\n",
              "\n",
              "    .dataframe thead th {\n",
              "        text-align: right;\n",
              "    }\n",
              "</style>\n",
              "<table border=\"1\" class=\"dataframe\">\n",
              "  <thead>\n",
              "    <tr style=\"text-align: right;\">\n",
              "      <th></th>\n",
              "      <th>CreditScore</th>\n",
              "      <th>Geography</th>\n",
              "      <th>Gender</th>\n",
              "      <th>Age</th>\n",
              "      <th>Tenure</th>\n",
              "      <th>Balance</th>\n",
              "      <th>NumOfProducts</th>\n",
              "      <th>HasCrCard</th>\n",
              "      <th>IsActiveMember</th>\n",
              "      <th>EstimatedSalary</th>\n",
              "      <th>Exited</th>\n",
              "      <th>balance_per_salary</th>\n",
              "    </tr>\n",
              "  </thead>\n",
              "  <tbody>\n",
              "    <tr>\n",
              "      <th>0</th>\n",
              "      <td>0.636</td>\n",
              "      <td>0.0</td>\n",
              "      <td>1.0</td>\n",
              "      <td>0.202703</td>\n",
              "      <td>0.3</td>\n",
              "      <td>0.000000</td>\n",
              "      <td>0.333333</td>\n",
              "      <td>1.0</td>\n",
              "      <td>0.0</td>\n",
              "      <td>0.907279</td>\n",
              "      <td>0</td>\n",
              "      <td>0.000000</td>\n",
              "    </tr>\n",
              "    <tr>\n",
              "      <th>1</th>\n",
              "      <td>0.554</td>\n",
              "      <td>0.0</td>\n",
              "      <td>1.0</td>\n",
              "      <td>0.202703</td>\n",
              "      <td>0.1</td>\n",
              "      <td>0.000000</td>\n",
              "      <td>0.333333</td>\n",
              "      <td>1.0</td>\n",
              "      <td>1.0</td>\n",
              "      <td>0.247483</td>\n",
              "      <td>0</td>\n",
              "      <td>0.000000</td>\n",
              "    </tr>\n",
              "    <tr>\n",
              "      <th>2</th>\n",
              "      <td>0.656</td>\n",
              "      <td>0.0</td>\n",
              "      <td>1.0</td>\n",
              "      <td>0.297297</td>\n",
              "      <td>1.0</td>\n",
              "      <td>0.000000</td>\n",
              "      <td>0.333333</td>\n",
              "      <td>1.0</td>\n",
              "      <td>0.0</td>\n",
              "      <td>0.924364</td>\n",
              "      <td>0</td>\n",
              "      <td>0.000000</td>\n",
              "    </tr>\n",
              "    <tr>\n",
              "      <th>3</th>\n",
              "      <td>0.462</td>\n",
              "      <td>0.0</td>\n",
              "      <td>1.0</td>\n",
              "      <td>0.216216</td>\n",
              "      <td>0.2</td>\n",
              "      <td>0.593398</td>\n",
              "      <td>0.000000</td>\n",
              "      <td>1.0</td>\n",
              "      <td>1.0</td>\n",
              "      <td>0.422787</td>\n",
              "      <td>0</td>\n",
              "      <td>0.000137</td>\n",
              "    </tr>\n",
              "    <tr>\n",
              "      <th>4</th>\n",
              "      <td>0.732</td>\n",
              "      <td>1.0</td>\n",
              "      <td>1.0</td>\n",
              "      <td>0.202703</td>\n",
              "      <td>0.5</td>\n",
              "      <td>0.000000</td>\n",
              "      <td>0.333333</td>\n",
              "      <td>1.0</td>\n",
              "      <td>1.0</td>\n",
              "      <td>0.075293</td>\n",
              "      <td>0</td>\n",
              "      <td>0.000000</td>\n",
              "    </tr>\n",
              "  </tbody>\n",
              "</table>\n",
              "</div>"
            ],
            "text/plain": [
              "   CreditScore  Geography  Gender       Age  Tenure   Balance  NumOfProducts  \\\n",
              "0        0.636        0.0     1.0  0.202703     0.3  0.000000       0.333333   \n",
              "1        0.554        0.0     1.0  0.202703     0.1  0.000000       0.333333   \n",
              "2        0.656        0.0     1.0  0.297297     1.0  0.000000       0.333333   \n",
              "3        0.462        0.0     1.0  0.216216     0.2  0.593398       0.000000   \n",
              "4        0.732        1.0     1.0  0.202703     0.5  0.000000       0.333333   \n",
              "\n",
              "   HasCrCard  IsActiveMember  EstimatedSalary  Exited  balance_per_salary  \n",
              "0        1.0             0.0         0.907279       0            0.000000  \n",
              "1        1.0             1.0         0.247483       0            0.000000  \n",
              "2        1.0             0.0         0.924364       0            0.000000  \n",
              "3        1.0             1.0         0.422787       0            0.000137  \n",
              "4        1.0             1.0         0.075293       0            0.000000  "
            ]
          },
          "execution_count": 152,
          "metadata": {},
          "output_type": "execute_result"
        }
      ],
      "source": [
        "# Scale features in both train and test data\n",
        "\n",
        "from sklearn.preprocessing import MinMaxScaler\n",
        "maxminscalar=MinMaxScaler()\n",
        "\n",
        "for col in train_data.columns:\n",
        "    if col!='Exited':\n",
        "        maxminscalar.fit(train_data[[col]])\n",
        "        train_data[col]=maxminscalar.transform(train_data[[col]])\n",
        "        test_data[col] =maxminscalar.transform(test_data[[col]])\n",
        "\n",
        "train_data.head()\n"
      ]
    },
    {
      "cell_type": "markdown",
      "metadata": {
        "id": "feECXG14ZX1Q"
      },
      "source": [
        "# Model Selection"
      ]
    },
    {
      "cell_type": "code",
      "execution_count": 166,
      "metadata": {
        "id": "BDHRpb2VZYq_"
      },
      "outputs": [
        {
          "name": "stdout",
          "output_type": "stream",
          "text": [
            "(110490, 11)\n"
          ]
        },
        {
          "data": {
            "text/plain": [
              "(54421, 11)"
            ]
          },
          "execution_count": 166,
          "metadata": {},
          "output_type": "execute_result"
        }
      ],
      "source": [
        "# split data as train and test\n",
        "\n",
        "from sklearn.model_selection import train_test_split\n",
        "y=train_data['Exited']\n",
        "x=train_data.drop(columns=['Exited'])\n",
        "train_x,test_x,train_y,test_y=train_test_split(x,y,test_size=0.33,random_state=72)\n",
        "print(train_x.shape)\n",
        "test_x.shape\n",
        "\n"
      ]
    },
    {
      "cell_type": "code",
      "execution_count": 167,
      "metadata": {
        "id": "dP5YFqlRZ1u0"
      },
      "outputs": [
        {
          "data": {
            "text/plain": [
              "array([0, 1, 0, ..., 0, 1, 0], dtype=int64)"
            ]
          },
          "execution_count": 167,
          "metadata": {},
          "output_type": "execute_result"
        }
      ],
      "source": [
        "# we will train with logistic regression and XGboost\n",
        "from sklearn.linear_model import LogisticRegression\n",
        "\n",
        "logreg = LogisticRegression()\n",
        "logreg.fit(train_x,train_y)\n",
        "ypred=logreg.predict(test_x)\n",
        "ypred"
      ]
    },
    {
      "cell_type": "code",
      "execution_count": 170,
      "metadata": {},
      "outputs": [
        {
          "name": "stdout",
          "output_type": "stream",
          "text": [
            "Collecting xgboost\n",
            "  Downloading xgboost-2.0.3-py3-none-win_amd64.whl.metadata (2.0 kB)\n",
            "Requirement already satisfied: numpy in c:\\users\\vijay\\appdata\\local\\programs\\python\\python311\\lib\\site-packages (from xgboost) (1.26.0)\n",
            "Requirement already satisfied: scipy in c:\\users\\vijay\\appdata\\local\\programs\\python\\python311\\lib\\site-packages (from xgboost) (1.11.3)\n",
            "Downloading xgboost-2.0.3-py3-none-win_amd64.whl (99.8 MB)\n",
            "   ---------------------------------------- 0.0/99.8 MB ? eta -:--:--\n",
            "   ---------------------------------------- 0.1/99.8 MB 1.7 MB/s eta 0:01:01\n",
            "   ---------------------------------------- 0.3/99.8 MB 3.2 MB/s eta 0:00:32\n",
            "   ---------------------------------------- 0.6/99.8 MB 5.1 MB/s eta 0:00:20\n",
            "   ---------------------------------------- 1.2/99.8 MB 6.2 MB/s eta 0:00:17\n",
            "    --------------------------------------- 2.1/99.8 MB 8.8 MB/s eta 0:00:12\n",
            "   - -------------------------------------- 3.2/99.8 MB 11.9 MB/s eta 0:00:09\n",
            "   - -------------------------------------- 3.6/99.8 MB 12.0 MB/s eta 0:00:09\n",
            "   - -------------------------------------- 4.0/99.8 MB 11.6 MB/s eta 0:00:09\n",
            "   - -------------------------------------- 4.0/99.8 MB 11.6 MB/s eta 0:00:09\n",
            "   - -------------------------------------- 4.0/99.8 MB 11.6 MB/s eta 0:00:09\n",
            "   - -------------------------------------- 4.3/99.8 MB 8.6 MB/s eta 0:00:12\n",
            "   -- ------------------------------------- 6.5/99.8 MB 11.9 MB/s eta 0:00:08\n",
            "   -- ------------------------------------- 7.0/99.8 MB 11.7 MB/s eta 0:00:08\n",
            "   --- ------------------------------------ 7.9/99.8 MB 12.3 MB/s eta 0:00:08\n",
            "   --- ------------------------------------ 8.6/99.8 MB 12.5 MB/s eta 0:00:08\n",
            "   --- ------------------------------------ 9.6/99.8 MB 13.0 MB/s eta 0:00:07\n",
            "   ---- ----------------------------------- 10.0/99.8 MB 12.8 MB/s eta 0:00:07\n",
            "   ---- ----------------------------------- 10.7/99.8 MB 14.6 MB/s eta 0:00:07\n",
            "   ---- ----------------------------------- 11.3/99.8 MB 14.6 MB/s eta 0:00:07\n",
            "   ---- ----------------------------------- 12.3/99.8 MB 14.9 MB/s eta 0:00:06\n",
            "   ----- ---------------------------------- 12.9/99.8 MB 14.6 MB/s eta 0:00:06\n",
            "   ----- ---------------------------------- 13.7/99.8 MB 14.2 MB/s eta 0:00:07\n",
            "   ----- ---------------------------------- 14.2/99.8 MB 14.2 MB/s eta 0:00:07\n",
            "   ----- ---------------------------------- 14.8/99.8 MB 17.2 MB/s eta 0:00:05\n",
            "   ------ --------------------------------- 15.5/99.8 MB 16.0 MB/s eta 0:00:06\n",
            "   ------ --------------------------------- 16.3/99.8 MB 15.2 MB/s eta 0:00:06\n",
            "   ------ --------------------------------- 16.9/99.8 MB 14.9 MB/s eta 0:00:06\n",
            "   ------- -------------------------------- 17.8/99.8 MB 15.6 MB/s eta 0:00:06\n",
            "   ------- -------------------------------- 18.7/99.8 MB 15.6 MB/s eta 0:00:06\n",
            "   ------- -------------------------------- 19.6/99.8 MB 15.6 MB/s eta 0:00:06\n",
            "   -------- ------------------------------- 20.6/99.8 MB 16.4 MB/s eta 0:00:05\n",
            "   -------- ------------------------------- 21.3/99.8 MB 16.0 MB/s eta 0:00:05\n",
            "   -------- ------------------------------- 21.7/99.8 MB 16.0 MB/s eta 0:00:05\n",
            "   -------- ------------------------------- 22.1/99.8 MB 14.9 MB/s eta 0:00:06\n",
            "   --------- ------------------------------ 22.8/99.8 MB 14.9 MB/s eta 0:00:06\n",
            "   --------- ------------------------------ 23.0/99.8 MB 14.2 MB/s eta 0:00:06\n",
            "   --------- ------------------------------ 23.6/99.8 MB 14.6 MB/s eta 0:00:06\n",
            "   --------- ------------------------------ 24.0/99.8 MB 13.6 MB/s eta 0:00:06\n",
            "   --------- ------------------------------ 24.6/99.8 MB 13.9 MB/s eta 0:00:06\n",
            "   ---------- ----------------------------- 25.3/99.8 MB 13.9 MB/s eta 0:00:06\n",
            "   ---------- ----------------------------- 26.1/99.8 MB 14.2 MB/s eta 0:00:06\n",
            "   ---------- ----------------------------- 26.6/99.8 MB 13.6 MB/s eta 0:00:06\n",
            "   ---------- ----------------------------- 27.1/99.8 MB 13.9 MB/s eta 0:00:06\n",
            "   ----------- ---------------------------- 28.0/99.8 MB 13.6 MB/s eta 0:00:06\n",
            "   ----------- ---------------------------- 29.0/99.8 MB 13.9 MB/s eta 0:00:06\n",
            "   ----------- ---------------------------- 29.6/99.8 MB 13.4 MB/s eta 0:00:06\n",
            "   ------------ --------------------------- 30.4/99.8 MB 13.6 MB/s eta 0:00:06\n",
            "   ------------ --------------------------- 31.2/99.8 MB 13.6 MB/s eta 0:00:06\n",
            "   ------------ --------------------------- 32.0/99.8 MB 13.9 MB/s eta 0:00:05\n",
            "   ------------ --------------------------- 32.4/99.8 MB 13.9 MB/s eta 0:00:05\n",
            "   ------------- -------------------------- 33.7/99.8 MB 14.9 MB/s eta 0:00:05\n",
            "   ------------- -------------------------- 34.6/99.8 MB 16.0 MB/s eta 0:00:05\n",
            "   -------------- ------------------------- 35.2/99.8 MB 16.0 MB/s eta 0:00:05\n",
            "   -------------- ------------------------- 36.0/99.8 MB 16.0 MB/s eta 0:00:04\n",
            "   -------------- ------------------------- 36.8/99.8 MB 16.8 MB/s eta 0:00:04\n",
            "   -------------- ------------------------- 37.2/99.8 MB 16.0 MB/s eta 0:00:04\n",
            "   --------------- ------------------------ 38.3/99.8 MB 16.4 MB/s eta 0:00:04\n",
            "   --------------- ------------------------ 38.7/99.8 MB 16.0 MB/s eta 0:00:04\n",
            "   --------------- ------------------------ 39.4/99.8 MB 16.0 MB/s eta 0:00:04\n",
            "   ---------------- ----------------------- 39.9/99.8 MB 15.2 MB/s eta 0:00:04\n",
            "   ---------------- ----------------------- 40.5/99.8 MB 15.2 MB/s eta 0:00:04\n",
            "   ---------------- ----------------------- 40.8/99.8 MB 14.2 MB/s eta 0:00:05\n",
            "   ---------------- ----------------------- 41.5/99.8 MB 14.6 MB/s eta 0:00:05\n",
            "   ---------------- ----------------------- 41.9/99.8 MB 13.9 MB/s eta 0:00:05\n",
            "   ----------------- ---------------------- 42.7/99.8 MB 14.6 MB/s eta 0:00:04\n",
            "   ----------------- ---------------------- 43.2/99.8 MB 13.9 MB/s eta 0:00:05\n",
            "   ----------------- ---------------------- 43.9/99.8 MB 13.6 MB/s eta 0:00:05\n",
            "   ----------------- ---------------------- 44.5/99.8 MB 13.6 MB/s eta 0:00:05\n",
            "   ------------------ --------------------- 45.0/99.8 MB 13.4 MB/s eta 0:00:05\n",
            "   ------------------ --------------------- 45.3/99.8 MB 12.6 MB/s eta 0:00:05\n",
            "   ------------------ --------------------- 45.8/99.8 MB 12.6 MB/s eta 0:00:05\n",
            "   ------------------ --------------------- 46.0/99.8 MB 12.1 MB/s eta 0:00:05\n",
            "   ------------------ --------------------- 46.5/99.8 MB 11.7 MB/s eta 0:00:05\n",
            "   ------------------ --------------------- 47.0/99.8 MB 11.5 MB/s eta 0:00:05\n",
            "   ------------------ --------------------- 47.3/99.8 MB 11.3 MB/s eta 0:00:05\n",
            "   ------------------- -------------------- 47.7/99.8 MB 11.1 MB/s eta 0:00:05\n",
            "   ------------------- -------------------- 48.4/99.8 MB 10.7 MB/s eta 0:00:05\n",
            "   ------------------- -------------------- 49.3/99.8 MB 10.9 MB/s eta 0:00:05\n",
            "   -------------------- ------------------- 50.1/99.8 MB 11.3 MB/s eta 0:00:05\n",
            "   -------------------- ------------------- 50.6/99.8 MB 11.3 MB/s eta 0:00:05\n",
            "   -------------------- ------------------- 51.0/99.8 MB 11.5 MB/s eta 0:00:05\n",
            "   -------------------- ------------------- 51.0/99.8 MB 11.5 MB/s eta 0:00:05\n",
            "   -------------------- ------------------- 52.4/99.8 MB 11.9 MB/s eta 0:00:04\n",
            "   -------------------- ------------------- 52.4/99.8 MB 11.9 MB/s eta 0:00:04\n",
            "   --------------------- ------------------ 53.6/99.8 MB 11.5 MB/s eta 0:00:05\n",
            "   --------------------- ------------------ 54.1/99.8 MB 11.3 MB/s eta 0:00:05\n",
            "   --------------------- ------------------ 54.6/99.8 MB 11.3 MB/s eta 0:00:04\n",
            "   ---------------------- ----------------- 55.2/99.8 MB 11.3 MB/s eta 0:00:04\n",
            "   ---------------------- ----------------- 55.8/99.8 MB 11.7 MB/s eta 0:00:04\n",
            "   ---------------------- ----------------- 56.4/99.8 MB 12.4 MB/s eta 0:00:04\n",
            "   ---------------------- ----------------- 57.0/99.8 MB 12.1 MB/s eta 0:00:04\n",
            "   ----------------------- ---------------- 57.6/99.8 MB 13.1 MB/s eta 0:00:04\n",
            "   ----------------------- ---------------- 58.1/99.8 MB 13.1 MB/s eta 0:00:04\n",
            "   ----------------------- ---------------- 58.7/99.8 MB 13.1 MB/s eta 0:00:04\n",
            "   ----------------------- ---------------- 59.2/99.8 MB 12.8 MB/s eta 0:00:04\n",
            "   ----------------------- ---------------- 59.6/99.8 MB 12.6 MB/s eta 0:00:04\n",
            "   ------------------------ --------------- 60.2/99.8 MB 12.1 MB/s eta 0:00:04\n",
            "   ------------------------ --------------- 60.7/99.8 MB 12.1 MB/s eta 0:00:04\n",
            "   ------------------------ --------------- 61.0/99.8 MB 11.7 MB/s eta 0:00:04\n",
            "   ------------------------ --------------- 61.4/99.8 MB 12.4 MB/s eta 0:00:04\n",
            "   ------------------------ --------------- 61.9/99.8 MB 11.7 MB/s eta 0:00:04\n",
            "   ------------------------ --------------- 62.2/99.8 MB 11.1 MB/s eta 0:00:04\n",
            "   ------------------------- -------------- 62.5/99.8 MB 10.6 MB/s eta 0:00:04\n",
            "   ------------------------- -------------- 62.9/99.8 MB 11.3 MB/s eta 0:00:04\n",
            "   ------------------------- -------------- 63.3/99.8 MB 10.7 MB/s eta 0:00:04\n",
            "   ------------------------- -------------- 63.7/99.8 MB 10.4 MB/s eta 0:00:04\n",
            "   ------------------------- -------------- 64.1/99.8 MB 10.2 MB/s eta 0:00:04\n",
            "   ------------------------- -------------- 64.6/99.8 MB 10.4 MB/s eta 0:00:04\n",
            "   -------------------------- ------------- 65.2/99.8 MB 10.2 MB/s eta 0:00:04\n",
            "   -------------------------- ------------- 65.8/99.8 MB 10.2 MB/s eta 0:00:04\n",
            "   -------------------------- ------------- 66.3/99.8 MB 10.2 MB/s eta 0:00:04\n",
            "   -------------------------- ------------- 67.0/99.8 MB 10.2 MB/s eta 0:00:04\n",
            "   --------------------------- ------------ 67.5/99.8 MB 10.2 MB/s eta 0:00:04\n",
            "   --------------------------- ------------ 68.0/99.8 MB 10.1 MB/s eta 0:00:04\n",
            "   --------------------------- ------------ 68.6/99.8 MB 10.1 MB/s eta 0:00:04\n",
            "   --------------------------- ------------ 68.7/99.8 MB 10.2 MB/s eta 0:00:04\n",
            "   --------------------------- ------------ 68.7/99.8 MB 10.2 MB/s eta 0:00:04\n",
            "   ---------------------------- ----------- 70.0/99.8 MB 10.2 MB/s eta 0:00:03\n",
            "   ---------------------------- ----------- 70.4/99.8 MB 9.9 MB/s eta 0:00:03\n",
            "   ---------------------------- ----------- 70.9/99.8 MB 9.9 MB/s eta 0:00:03\n",
            "   ---------------------------- ----------- 71.4/99.8 MB 10.2 MB/s eta 0:00:03\n",
            "   ---------------------------- ----------- 71.8/99.8 MB 10.2 MB/s eta 0:00:03\n",
            "   ---------------------------- ----------- 72.2/99.8 MB 10.2 MB/s eta 0:00:03\n",
            "   ----------------------------- ---------- 72.6/99.8 MB 10.2 MB/s eta 0:00:03\n",
            "   ----------------------------- ---------- 73.1/99.8 MB 10.4 MB/s eta 0:00:03\n",
            "   ----------------------------- ---------- 73.6/99.8 MB 10.7 MB/s eta 0:00:03\n",
            "   ----------------------------- ---------- 73.7/99.8 MB 10.4 MB/s eta 0:00:03\n",
            "   ----------------------------- ---------- 74.0/99.8 MB 10.4 MB/s eta 0:00:03\n",
            "   ----------------------------- ---------- 74.4/99.8 MB 9.9 MB/s eta 0:00:03\n",
            "   ----------------------------- ---------- 74.8/99.8 MB 9.8 MB/s eta 0:00:03\n",
            "   ------------------------------ --------- 75.2/99.8 MB 9.8 MB/s eta 0:00:03\n",
            "   ------------------------------ --------- 75.3/99.8 MB 9.8 MB/s eta 0:00:03\n",
            "   ------------------------------ --------- 75.5/99.8 MB 9.2 MB/s eta 0:00:03\n",
            "   ------------------------------ --------- 75.8/99.8 MB 9.0 MB/s eta 0:00:03\n",
            "   ------------------------------ --------- 75.9/99.8 MB 8.5 MB/s eta 0:00:03\n",
            "   ------------------------------ --------- 76.1/99.8 MB 8.3 MB/s eta 0:00:03\n",
            "   ------------------------------ --------- 76.2/99.8 MB 8.2 MB/s eta 0:00:03\n",
            "   ------------------------------ --------- 76.2/99.8 MB 8.2 MB/s eta 0:00:03\n",
            "   ------------------------------ --------- 76.2/99.8 MB 8.2 MB/s eta 0:00:03\n",
            "   ------------------------------ --------- 76.2/99.8 MB 8.2 MB/s eta 0:00:03\n",
            "   ------------------------------ --------- 76.3/99.8 MB 7.0 MB/s eta 0:00:04\n",
            "   ------------------------------ --------- 76.8/99.8 MB 7.1 MB/s eta 0:00:04\n",
            "   ------------------------------ --------- 76.9/99.8 MB 6.9 MB/s eta 0:00:04\n",
            "   ------------------------------ --------- 77.1/99.8 MB 6.7 MB/s eta 0:00:04\n",
            "   ------------------------------ --------- 77.1/99.8 MB 6.5 MB/s eta 0:00:04\n",
            "   ------------------------------ --------- 77.2/99.8 MB 6.4 MB/s eta 0:00:04\n",
            "   ------------------------------- -------- 77.4/99.8 MB 6.2 MB/s eta 0:00:04\n",
            "   ------------------------------- -------- 77.5/99.8 MB 6.2 MB/s eta 0:00:04\n",
            "   ------------------------------- -------- 77.6/99.8 MB 6.0 MB/s eta 0:00:04\n",
            "   ------------------------------- -------- 77.8/99.8 MB 5.8 MB/s eta 0:00:04\n",
            "   ------------------------------- -------- 77.9/99.8 MB 5.7 MB/s eta 0:00:04\n",
            "   ------------------------------- -------- 78.2/99.8 MB 5.6 MB/s eta 0:00:04\n",
            "   ------------------------------- -------- 78.3/99.8 MB 5.5 MB/s eta 0:00:04\n",
            "   ------------------------------- -------- 78.5/99.8 MB 5.5 MB/s eta 0:00:04\n",
            "   ------------------------------- -------- 78.9/99.8 MB 5.4 MB/s eta 0:00:04\n",
            "   ------------------------------- -------- 79.3/99.8 MB 5.6 MB/s eta 0:00:04\n",
            "   ------------------------------- -------- 79.6/99.8 MB 5.5 MB/s eta 0:00:04\n",
            "   -------------------------------- ------- 79.8/99.8 MB 5.4 MB/s eta 0:00:04\n",
            "   -------------------------------- ------- 80.2/99.8 MB 5.2 MB/s eta 0:00:04\n",
            "   -------------------------------- ------- 80.7/99.8 MB 5.3 MB/s eta 0:00:04\n",
            "   -------------------------------- ------- 81.0/99.8 MB 5.2 MB/s eta 0:00:04\n",
            "   -------------------------------- ------- 81.4/99.8 MB 5.2 MB/s eta 0:00:04\n",
            "   -------------------------------- ------- 81.9/99.8 MB 5.2 MB/s eta 0:00:04\n",
            "   -------------------------------- ------- 82.2/99.8 MB 5.2 MB/s eta 0:00:04\n",
            "   --------------------------------- ------ 82.7/99.8 MB 5.2 MB/s eta 0:00:04\n",
            "   --------------------------------- ------ 82.9/99.8 MB 5.2 MB/s eta 0:00:04\n",
            "   --------------------------------- ------ 83.5/99.8 MB 5.2 MB/s eta 0:00:04\n",
            "   --------------------------------- ------ 84.0/99.8 MB 5.3 MB/s eta 0:00:03\n",
            "   --------------------------------- ------ 84.3/99.8 MB 5.3 MB/s eta 0:00:03\n",
            "   --------------------------------- ------ 84.6/99.8 MB 5.3 MB/s eta 0:00:03\n",
            "   ---------------------------------- ----- 84.8/99.8 MB 5.2 MB/s eta 0:00:03\n",
            "   ---------------------------------- ----- 85.1/99.8 MB 5.2 MB/s eta 0:00:03\n",
            "   ---------------------------------- ----- 85.4/99.8 MB 5.2 MB/s eta 0:00:03\n",
            "   ---------------------------------- ----- 85.7/99.8 MB 5.3 MB/s eta 0:00:03\n",
            "   ---------------------------------- ----- 86.0/99.8 MB 5.3 MB/s eta 0:00:03\n",
            "   ---------------------------------- ----- 86.3/99.8 MB 5.5 MB/s eta 0:00:03\n",
            "   ---------------------------------- ----- 86.6/99.8 MB 6.1 MB/s eta 0:00:03\n",
            "   ---------------------------------- ----- 86.9/99.8 MB 6.0 MB/s eta 0:00:03\n",
            "   ---------------------------------- ----- 87.2/99.8 MB 6.2 MB/s eta 0:00:03\n",
            "   ----------------------------------- ---- 87.6/99.8 MB 6.5 MB/s eta 0:00:02\n",
            "   ----------------------------------- ---- 87.9/99.8 MB 7.0 MB/s eta 0:00:02\n",
            "   ----------------------------------- ---- 88.2/99.8 MB 7.1 MB/s eta 0:00:02\n",
            "   ----------------------------------- ---- 88.5/99.8 MB 7.3 MB/s eta 0:00:02\n",
            "   ----------------------------------- ---- 88.8/99.8 MB 7.2 MB/s eta 0:00:02\n",
            "   ----------------------------------- ---- 88.9/99.8 MB 7.2 MB/s eta 0:00:02\n",
            "   ----------------------------------- ---- 89.3/99.8 MB 7.3 MB/s eta 0:00:02\n",
            "   ----------------------------------- ---- 89.7/99.8 MB 7.2 MB/s eta 0:00:02\n",
            "   ------------------------------------ --- 89.8/99.8 MB 7.0 MB/s eta 0:00:02\n",
            "   ------------------------------------ --- 90.0/99.8 MB 7.2 MB/s eta 0:00:02\n",
            "   ------------------------------------ --- 90.3/99.8 MB 7.0 MB/s eta 0:00:02\n",
            "   ------------------------------------ --- 90.5/99.8 MB 6.9 MB/s eta 0:00:02\n",
            "   ------------------------------------ --- 90.9/99.8 MB 6.9 MB/s eta 0:00:02\n",
            "   ------------------------------------ --- 91.3/99.8 MB 7.0 MB/s eta 0:00:02\n",
            "   ------------------------------------ --- 91.6/99.8 MB 6.9 MB/s eta 0:00:02\n",
            "   ------------------------------------ --- 91.9/99.8 MB 6.8 MB/s eta 0:00:02\n",
            "   ------------------------------------- -- 92.3/99.8 MB 6.7 MB/s eta 0:00:02\n",
            "   ------------------------------------- -- 92.4/99.8 MB 6.7 MB/s eta 0:00:02\n",
            "   ------------------------------------- -- 92.7/99.8 MB 6.6 MB/s eta 0:00:02\n",
            "   ------------------------------------- -- 93.0/99.8 MB 6.5 MB/s eta 0:00:02\n",
            "   ------------------------------------- -- 93.3/99.8 MB 6.6 MB/s eta 0:00:01\n",
            "   ------------------------------------- -- 93.4/99.8 MB 6.4 MB/s eta 0:00:01\n",
            "   ------------------------------------- -- 93.6/99.8 MB 6.3 MB/s eta 0:00:01\n",
            "   ------------------------------------- -- 93.7/99.8 MB 6.1 MB/s eta 0:00:01\n",
            "   ------------------------------------- -- 93.9/99.8 MB 6.0 MB/s eta 0:00:01\n",
            "   ------------------------------------- -- 94.0/99.8 MB 5.8 MB/s eta 0:00:01\n",
            "   ------------------------------------- -- 94.1/99.8 MB 5.8 MB/s eta 0:00:01\n",
            "   ------------------------------------- -- 94.2/99.8 MB 5.6 MB/s eta 0:00:01\n",
            "   ------------------------------------- -- 94.4/99.8 MB 5.6 MB/s eta 0:00:01\n",
            "   ------------------------------------- -- 94.6/99.8 MB 5.5 MB/s eta 0:00:01\n",
            "   ------------------------------------- -- 94.6/99.8 MB 5.5 MB/s eta 0:00:01\n",
            "   -------------------------------------- - 94.8/99.8 MB 5.4 MB/s eta 0:00:01\n",
            "   -------------------------------------- - 94.9/99.8 MB 5.3 MB/s eta 0:00:01\n",
            "   -------------------------------------- - 94.9/99.8 MB 5.3 MB/s eta 0:00:01\n",
            "   -------------------------------------- - 94.9/99.8 MB 5.3 MB/s eta 0:00:01\n",
            "   -------------------------------------- - 94.9/99.8 MB 5.3 MB/s eta 0:00:01\n",
            "   -------------------------------------- - 94.9/99.8 MB 5.3 MB/s eta 0:00:01\n",
            "   -------------------------------------- - 95.2/99.8 MB 4.8 MB/s eta 0:00:01\n",
            "   -------------------------------------- - 95.3/99.8 MB 4.7 MB/s eta 0:00:01\n",
            "   -------------------------------------- - 95.4/99.8 MB 4.7 MB/s eta 0:00:01\n",
            "   -------------------------------------- - 95.7/99.8 MB 4.7 MB/s eta 0:00:01\n",
            "   -------------------------------------- - 95.9/99.8 MB 4.6 MB/s eta 0:00:01\n",
            "   -------------------------------------- - 96.1/99.8 MB 4.6 MB/s eta 0:00:01\n",
            "   -------------------------------------- - 96.4/99.8 MB 4.7 MB/s eta 0:00:01\n",
            "   -------------------------------------- - 96.7/99.8 MB 4.6 MB/s eta 0:00:01\n",
            "   -------------------------------------- - 96.9/99.8 MB 4.6 MB/s eta 0:00:01\n",
            "   -------------------------------------- - 97.1/99.8 MB 4.5 MB/s eta 0:00:01\n",
            "   -------------------------------------- - 97.2/99.8 MB 4.6 MB/s eta 0:00:01\n",
            "   ---------------------------------------  97.8/99.8 MB 4.6 MB/s eta 0:00:01\n",
            "   ---------------------------------------  98.0/99.8 MB 4.5 MB/s eta 0:00:01\n",
            "   ---------------------------------------  98.2/99.8 MB 4.5 MB/s eta 0:00:01\n",
            "   ---------------------------------------  98.4/99.8 MB 4.5 MB/s eta 0:00:01\n",
            "   ---------------------------------------  98.6/99.8 MB 4.5 MB/s eta 0:00:01\n",
            "   ---------------------------------------  98.8/99.8 MB 4.4 MB/s eta 0:00:01\n",
            "   ---------------------------------------  98.9/99.8 MB 4.4 MB/s eta 0:00:01\n",
            "   ---------------------------------------  99.0/99.8 MB 4.4 MB/s eta 0:00:01\n",
            "   ---------------------------------------  99.3/99.8 MB 4.3 MB/s eta 0:00:01\n",
            "   ---------------------------------------  99.5/99.8 MB 4.3 MB/s eta 0:00:01\n",
            "   ---------------------------------------  99.7/99.8 MB 4.3 MB/s eta 0:00:01\n",
            "   ---------------------------------------  99.7/99.8 MB 4.3 MB/s eta 0:00:01\n",
            "   ---------------------------------------  99.7/99.8 MB 4.3 MB/s eta 0:00:01\n",
            "   ---------------------------------------  99.7/99.8 MB 4.3 MB/s eta 0:00:01\n",
            "   ---------------------------------------  99.7/99.8 MB 4.3 MB/s eta 0:00:01\n",
            "   ---------------------------------------  99.7/99.8 MB 4.3 MB/s eta 0:00:01\n",
            "   ---------------------------------------  99.7/99.8 MB 4.3 MB/s eta 0:00:01\n",
            "   ---------------------------------------  99.7/99.8 MB 4.3 MB/s eta 0:00:01\n",
            "   ---------------------------------------- 99.8/99.8 MB 3.7 MB/s eta 0:00:00\n",
            "Installing collected packages: xgboost\n",
            "Successfully installed xgboost-2.0.3\n"
          ]
        },
        {
          "name": "stderr",
          "output_type": "stream",
          "text": [
            "\n",
            "[notice] A new release of pip is available: 23.3.1 -> 24.0\n",
            "[notice] To update, run: python.exe -m pip install --upgrade pip\n"
          ]
        }
      ],
      "source": [
        "!pip install xgboost"
      ]
    },
    {
      "cell_type": "code",
      "execution_count": 171,
      "metadata": {
        "id": "YuQqoBCjaBun"
      },
      "outputs": [],
      "source": [
        "# Use logistic regression\n",
        "\n",
        "from xgboost import XGBClassifier\n",
        "xgb=XGBClassifier()\n",
        "xgb.fit(train_x,train_y)\n",
        "xgb_ypred=xgb.predict(test_x)\n",
        "\n"
      ]
    },
    {
      "cell_type": "code",
      "execution_count": 156,
      "metadata": {
        "id": "sec4Vap_azwl"
      },
      "outputs": [],
      "source": [
        "# Use xgboost\n",
        "\n",
        "#from xgboost import XGBClassifier\n",
        "\n"
      ]
    },
    {
      "cell_type": "markdown",
      "metadata": {
        "id": "GoxGanhdcyil"
      },
      "source": [
        "# Model Evaluation"
      ]
    },
    {
      "cell_type": "code",
      "execution_count": 172,
      "metadata": {
        "id": "2vBfe7LSb1xm"
      },
      "outputs": [
        {
          "data": {
            "text/plain": [
              "0.4580335731414869"
            ]
          },
          "execution_count": 172,
          "metadata": {},
          "output_type": "execute_result"
        }
      ],
      "source": [
        "# F1 score for logistic regression\n",
        "\n",
        "from sklearn.metrics import f1_score\n",
        "f1_score(test_y,ypred)\n"
      ]
    },
    {
      "cell_type": "code",
      "execution_count": 173,
      "metadata": {
        "id": "bZ4b4fUGdEHi"
      },
      "outputs": [
        {
          "data": {
            "text/plain": [
              "0.6377964354102224"
            ]
          },
          "execution_count": 173,
          "metadata": {},
          "output_type": "execute_result"
        }
      ],
      "source": [
        "# F1 score for XGBoost\n",
        "\n",
        "from sklearn.metrics import f1_score\n",
        "f1_score(test_y,xgb_ypred)\n"
      ]
    },
    {
      "cell_type": "markdown",
      "metadata": {
        "id": "RFqjXyPDdY9G"
      },
      "source": [
        "# Hyperparameter Tuning"
      ]
    },
    {
      "cell_type": "code",
      "execution_count": 176,
      "metadata": {
        "id": "hrlGoLacdLKX"
      },
      "outputs": [],
      "source": [
        "#Tweak the parameters n_estimators, max_depth ,learning_rate\n",
        "\n",
        "from sklearn.model_selection import GridSearchCV\n",
        "paramdict={'n_estimators':[100,200,500], 'max_depth':[2,5] ,'learning_rate':[0.1,0.01]}\n",
        "gridsearch=GridSearchCV(estimator=xgb,param_grid=paramdict,cv=5)\n",
        "gridsearch.fit(train_x,train_y)\n",
        "xgb_gsv_ypred=gridsearch.predict(test_x)"
      ]
    },
    {
      "cell_type": "code",
      "execution_count": 177,
      "metadata": {
        "id": "wDipI2Q-edXJ"
      },
      "outputs": [
        {
          "data": {
            "text/plain": [
              "0.6413054162980438"
            ]
          },
          "execution_count": 177,
          "metadata": {},
          "output_type": "execute_result"
        }
      ],
      "source": [
        "# f1 score for the grid_search\n",
        "\n",
        "f1_score(test_y,xgb_gsv_ypred)"
      ]
    },
    {
      "cell_type": "markdown",
      "metadata": {
        "id": "YFNRqHMafyRv"
      },
      "source": [
        "# Performance Report"
      ]
    },
    {
      "cell_type": "code",
      "execution_count": 179,
      "metadata": {
        "id": "5t33Vu0LfcQP"
      },
      "outputs": [
        {
          "data": {
            "text/plain": [
              "array([[40599,  2197],\n",
              "       [ 5101,  6524]], dtype=int64)"
            ]
          },
          "execution_count": 179,
          "metadata": {},
          "output_type": "execute_result"
        }
      ],
      "source": [
        "# plot confusion matrix\n",
        "\n",
        "from sklearn.metrics import confusion_matrix\n",
        "confusion_matrix(test_y,xgb_gsv_ypred)\n",
        "\n"
      ]
    },
    {
      "cell_type": "code",
      "execution_count": 180,
      "metadata": {
        "id": "larzYEqSgF2Q"
      },
      "outputs": [
        {
          "data": {
            "image/png": "[encoded data removed]",
            "text/plain": [
              "<Figure size 640x480 with 1 Axes>"
            ]
          },
          "metadata": {},
          "output_type": "display_data"
        }
      ],
      "source": [
        "# ROC Curve\n",
        "\n",
        "from sklearn.metrics import roc_curve, auc\n",
        "\n",
        "fpr, tpr, thresholds = roc_curve(test_y, xgb_gsv_ypred)\n",
        "\n",
        "# Compute Area Under the ROC Curve (AUC)\n",
        "roc_auc = auc(fpr, tpr)\n",
        "\n",
        "# Plot ROC curve\n",
        "plt.figure()\n",
        "plt.plot(fpr, tpr, color='darkorange', lw=2, label='ROC curve (area = %0.2f)' % roc_auc)\n",
        "plt.plot([0, 1], [0, 1], color='navy', lw=2, linestyle='--')\n",
        "plt.xlim([0.0, 1.0])\n",
        "plt.ylim([0.0, 1.05])\n",
        "plt.xlabel('False Positive Rate')\n",
        "plt.ylabel('True Positive Rate')\n",
        "plt.title('Receiver Operating Characteristic (ROC) Curve')\n",
        "plt.legend(loc=\"lower right\")\n",
        "plt.show() "
      ]
    },
    {
      "cell_type": "markdown",
      "metadata": {
        "id": "EGufYAUJgrmY"
      },
      "source": [
        "# Submission"
      ]
    },
    {
      "cell_type": "code",
      "execution_count": 163,
      "metadata": {
        "id": "P-iIZEVVgugN"
      },
      "outputs": [],
      "source": [
        "# make predictions using the latest model\n",
        "y_pred=gridsearch.predict(test_data)\n",
        "ypred\n"
      ]
    },
    {
      "cell_type": "code",
      "execution_count": 164,
      "metadata": {
        "id": "sWd4To1gg8cS"
      },
      "outputs": [],
      "source": [
        "# make submission dataframe\n",
        "\n",
        "\n"
      ]
    },
    {
      "cell_type": "code",
      "execution_count": 165,
      "metadata": {
        "id": "2svox_vphfaF"
      },
      "outputs": [],
      "source": [
        "# convert submission to csv\n",
        "\n"
      ]
    },
    {
      "cell_type": "code",
      "execution_count": null,
      "metadata": {
        "id": "XoOs-5Xxhm7U"
      },
      "outputs": [],
      "source": []
    }
  ],
  "metadata": {
    "colab": {
      "include_colab_link": true,
      "private_outputs": true,
      "provenance": []
    },
    "kernelspec": {
      "display_name": "Python 3",
      "name": "python3"
    },
    "language_info": {
      "codemirror_mode": {
        "name": "ipython",
        "version": 3
      },
      "file_extension": ".py",
      "mimetype": "text/x-python",
      "name": "python",
      "nbconvert_exporter": "python",
      "pygments_lexer": "ipython3",
      "version": "3.11.3"
    }
  },
  "nbformat": 4,
  "nbformat_minor": 0
}
